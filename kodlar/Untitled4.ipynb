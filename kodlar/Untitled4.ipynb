{
 "cells": [
  {
   "cell_type": "code",
   "execution_count": 1,
   "id": "ca52bc96",
   "metadata": {},
   "outputs": [
    {
     "name": "stdout",
     "output_type": "stream",
     "text": [
      "Sorgular tamamlandı ve sonuçlar 'output.txt' dosyasına kaydedildi.\n"
     ]
    }
   ],
   "source": [
    "import requests\n",
    "from astropy.coordinates import SkyCoord\n",
    "from astropy import units as u\n",
    "import pandas as pd\n",
    "\n",
    "# .txt dosyasından RA ve Dec değerlerini oku\n",
    "input_file = '/Users/nurullah/Desktop/galaxy_abudance/RA_DECkopyası.txt'  # Bu dosya RA ve Dec değerlerini içermelidir\n",
    "data = pd.read_csv(input_file, delim_whitespace=True, header=None, names=['RA', 'Dec'])\n",
    "\n",
    "# Vizier URL ve katalog bilgileri\n",
    "vizier_url = 'http://vizier.u-strasbg.fr/viz-bin/asu-tsv'\n",
    "catalog = 'I/352/gedr3dis'  # Gaia EDR3 Distances catalog ID\n",
    "\n",
    "# Sonuçları saklamak için liste\n",
    "results = []\n",
    "\n",
    "# Her RA ve Dec değeri için sorgu yap\n",
    "for index, row in data.iterrows():\n",
    "    ra = row['RA']\n",
    "    dec = row['Dec']\n",
    "    \n",
    "    # RA ve Dec değerlerini uygun formatta yaz\n",
    "    coord = SkyCoord(ra, dec, unit=(u.deg, u.deg), frame='icrs')\n",
    "    ra_str = coord.ra.to_string(unit=u.deg, decimal=True)\n",
    "    dec_str = coord.dec.to_string(unit=u.deg, decimal=True)\n",
    "\n",
    "    # Sorgu parametrelerini hazırla\n",
    "    params = {\n",
    "        '-source': catalog,\n",
    "        '-c': f'{ra_str} {dec_str}',\n",
    "        '-c.eq': 'ICRS',\n",
    "        '-c.r': '0.01',  # Arama yarıçapı, derece cinsinden\n",
    "        '-out.add': '_r',\n",
    "        '-out.max': '1',  # En yakın 1 sonucu al\n",
    "        '-out': 'Source,RA_ICRS,DE_ICRS,rgeo,b_rgeo,B_rgeo,rpgeo,b_rpgeo,B_rpgeo,Flag'\n",
    "    }\n",
    "\n",
    "    # Sorguyu gönder ve sonuçları al\n",
    "    response = requests.get(vizier_url, params=params)\n",
    "    if response.status_code == 200:\n",
    "        result = response.text\n",
    "        results.append(result)\n",
    "    else:\n",
    "        print(f\"Sorgu başarısız oldu: RA={ra_str}, Dec={dec_str}\")\n",
    "\n",
    "# Sonuçları bir dosyaya yaz\n",
    "with open('output.txt', 'w') as output_file:\n",
    "    for result in results:\n",
    "        output_file.write(result)\n",
    "\n",
    "print(\"Sorgular tamamlandı ve sonuçlar 'output.txt' dosyasına kaydedildi.\")"
   ]
  },
  {
   "cell_type": "code",
   "execution_count": null,
   "id": "0c1d4faa",
   "metadata": {},
   "outputs": [],
   "source": []
  }
 ],
 "metadata": {
  "kernelspec": {
   "display_name": "Python 3 (ipykernel)",
   "language": "python",
   "name": "python3"
  },
  "language_info": {
   "codemirror_mode": {
    "name": "ipython",
    "version": 3
   },
   "file_extension": ".py",
   "mimetype": "text/x-python",
   "name": "python",
   "nbconvert_exporter": "python",
   "pygments_lexer": "ipython3",
   "version": "3.11.5"
  }
 },
 "nbformat": 4,
 "nbformat_minor": 5
}
