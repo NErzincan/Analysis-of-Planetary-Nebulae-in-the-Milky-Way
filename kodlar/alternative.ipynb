{
 "cells": [
  {
   "cell_type": "code",
   "execution_count": 4,
   "id": "b38e8d9c-db5a-48f8-9231-17f36b480848",
   "metadata": {},
   "outputs": [
    {
     "name": "stdout",
     "output_type": "stream",
     "text": [
      "The physical radius is: 0.02109 parsecs\n"
     ]
    }
   ],
   "source": [
    "def calculate_physical_radius(theta, p):\n",
    "    \"\"\"\n",
    "    Calculate the physical radius of a planetary nebula from its angular radius and parallax.\n",
    "    \n",
    "    Parameters:\n",
    "    theta (float): Angular radius in arcseconds\n",
    "    p (float): Parallax in arcseconds\n",
    "    \n",
    "    Returns:\n",
    "    float: Physical radius in parsecs\n",
    "    \"\"\"\n",
    "    if p <= 0:\n",
    "        raise ValueError(\"Parallax must be positive and non-zero to calculate distance.\")\n",
    "    \n",
    "    # Convert angular radius to parsecs using the parallax\n",
    "    R_pc = theta / (206265 * p)\n",
    "    return R_pc\n",
    "\n",
    "# Example usage\n",
    "theta = 1.25  # angular radius in arcseconds\n",
    "parallax = 0.0002874  # parallax in arcseconds\n",
    "\n",
    "try:\n",
    "    radius_pc = calculate_physical_radius(theta, parallax)\n",
    "    print(f\"The physical radius is: {radius_pc:.5f} parsecs\")\n",
    "except ValueError as e:\n",
    "    print(e)"
   ]
  },
  {
   "cell_type": "code",
   "execution_count": 5,
   "id": "0294b93b-6245-4f40-abbe-1a017da138eb",
   "metadata": {},
   "outputs": [
    {
     "name": "stdout",
     "output_type": "stream",
     "text": [
      "The physical radius is: 0.02109 parsecs\n"
     ]
    }
   ],
   "source": [
    "def calculate_physical_radius(angular_diameter, p):\n",
    "    \"\"\"\n",
    "    Calculate the physical radius of a planetary nebula from its angular diameter and parallax.\n",
    "    \n",
    "    Parameters:\n",
    "    angular_diameter (float): Angular diameter in arcseconds\n",
    "    p (float): Parallax in arcseconds\n",
    "    \n",
    "    Returns:\n",
    "    float: Physical radius in parsecs\n",
    "    \"\"\"\n",
    "    if p <= 0:\n",
    "        raise ValueError(\"Parallax must be positive and non-zero to calculate distance.\")\n",
    "    \n",
    "    angular_radius = angular_diameter / 2  # Convert diameter to radius\n",
    "    R_pc = angular_radius / (206265 * p)  # Convert angular radius to parsecs using the parallax\n",
    "    return R_pc\n",
    "\n",
    "# Example usage\n",
    "angular_diameter = 2.5  # angular diameter in arcseconds\n",
    "parallax = 0.0002874  # parallax in arcseconds\n",
    "\n",
    "try:\n",
    "    radius_pc = calculate_physical_radius(angular_diameter, parallax)\n",
    "    print(f\"The physical radius is: {radius_pc:.5f} parsecs\")\n",
    "except ValueError as e:\n",
    "    print(e)"
   ]
  },
  {
   "cell_type": "code",
   "execution_count": 6,
   "id": "63025d2d-94fe-4bb6-8f8c-2209e75f5d3a",
   "metadata": {},
   "outputs": [
    {
     "name": "stdout",
     "output_type": "stream",
     "text": [
      "Physical Radius: 0.02108939512852299 parsecs\n"
     ]
    }
   ],
   "source": [
    "import numpy as np\n",
    "\n",
    "def calculate_physical_radius(angular_diameter, distance):\n",
    "    \"\"\"\n",
    "    Calculate the physical radius of a planetary nebula from its angular diameter and distance.\n",
    "    \n",
    "    Parameters:\n",
    "    angular_diameter (float): Angular diameter in arcseconds\n",
    "    distance (float): Distance in parsecs\n",
    "    \n",
    "    Returns:\n",
    "    float: Physical radius in parsecs\n",
    "    \"\"\"\n",
    "    if distance <= 0:\n",
    "        raise ValueError(\"Distance must be positive and non-zero to calculate the physical radius.\")\n",
    "    \n",
    "    angular_radius = angular_diameter / 2  # Convert diameter to radius\n",
    "    R_pc = distance * np.tan(np.radians(angular_radius / 3600))  # Convert angular radius to radians and calculate radius in parsecs\n",
    "    return R_pc\n",
    "\n",
    "# Example usage\n",
    "angular_diameter = 2.5  # angular diameter in arcseconds\n",
    "distance = 3480  # distance in parsecs\n",
    "physical_radius = calculate_physical_radius(angular_diameter, distance)\n",
    "print(\"Physical Radius:\", physical_radius, \"parsecs\")"
   ]
  },
  {
   "cell_type": "code",
   "execution_count": 7,
   "id": "5923ee84-1d41-4b29-87bd-14351783757e",
   "metadata": {},
   "outputs": [
    {
     "name": "stdout",
     "output_type": "stream",
     "text": [
      "Physical Radius in parsecs: 0.02108937531815868\n"
     ]
    }
   ],
   "source": [
    "def calculate_physical_radius(angular_diameter, distance):\n",
    "    \"\"\"\n",
    "    Calculate the physical radius of a planetary nebula from its angular diameter and distance.\n",
    "    \n",
    "    Parameters:\n",
    "    angular_diameter (float): Angular diameter in arcseconds\n",
    "    distance (float): Distance in parsecs\n",
    "    \n",
    "    Returns:\n",
    "    float: Physical radius in parsecs\n",
    "    \"\"\"\n",
    "    angular_radius = angular_diameter / 2  # Convert diameter to radius\n",
    "    R_pc = angular_radius / 206265 * distance  # Calculate physical radius\n",
    "    return R_pc\n",
    "\n",
    "# Example usage\n",
    "angular_diameter = 2.5  # Angular diameter in arcseconds\n",
    "distance = 3480  # Distance in parsecs\n",
    "physical_radius = calculate_physical_radius(angular_diameter, distance)\n",
    "print(\"Physical Radius in parsecs:\", physical_radius)"
   ]
  },
  {
   "cell_type": "code",
   "execution_count": 8,
   "id": "b3672d28-4895-4506-96e8-ca8975084769",
   "metadata": {},
   "outputs": [
    {
     "name": "stdout",
     "output_type": "stream",
     "text": [
      "Logarithm of the Surface Brightness: -15.714667772356115\n"
     ]
    }
   ],
   "source": [
    "import numpy as np\n",
    "\n",
    "def calculate_surface_brightness(I_Hb, Fc_Hb):\n",
    "    \"\"\"\n",
    "    Calculate the logarithm of the surface brightness of Hβ.\n",
    "    \n",
    "    Parameters:\n",
    "    I_Hb (float): Observed intensity of Hβ in erg cm^-2 s^-1.\n",
    "    Fc_Hb (float): Extinction correction factor for Hβ.\n",
    "    \n",
    "    Returns:\n",
    "    float: Logarithm of the surface brightness.\n",
    "    \"\"\"\n",
    "    surface_brightness = I_Hb * Fc_Hb  # Apply the extinction correction\n",
    "    log_surface_brightness = np.log10(surface_brightness)  # Take the logarithm of the corrected intensity\n",
    "    return log_surface_brightness\n",
    "\n",
    "# Example values for I_Hb and Fc_Hb\n",
    "I_Hb_example = 3.0e-17  # Example Hβ intensity in erg cm^-2 s^-1\n",
    "Fc_Hb_example = 6.43  # Example extinction correction factor\n",
    "\n",
    "# Calculate the surface brightness\n",
    "log_Sb_Hb = calculate_surface_brightness(I_Hb_example, Fc_Hb_example)\n",
    "print(\"Logarithm of the Surface Brightness:\", log_Sb_Hb)"
   ]
  },
  {
   "cell_type": "code",
   "execution_count": null,
   "id": "b28fbc75-ba4b-4e22-a77e-ff91ae0134a0",
   "metadata": {},
   "outputs": [],
   "source": []
  },
  {
   "cell_type": "code",
   "execution_count": null,
   "id": "ecb5d0a1-59f7-4ee9-b842-fdbae51102aa",
   "metadata": {},
   "outputs": [],
   "source": []
  },
  {
   "cell_type": "code",
   "execution_count": null,
   "id": "8b0cfe53-cb54-4ec1-8977-3a05c2140560",
   "metadata": {},
   "outputs": [],
   "source": [
    "#21"
   ]
  },
  {
   "cell_type": "code",
   "execution_count": 39,
   "id": "82a1c163-81e4-4630-964c-bfd85652722a",
   "metadata": {},
   "outputs": [
    {
     "name": "stdout",
     "output_type": "stream",
     "text": [
      "Calculated distance for a, b: 7709.35 parsecs\n",
      "Calculated distance for a, b_minus: 7031.01 parsecs\n",
      "Calculated distance for a, b_plus: 8453.14 parsecs\n",
      "Calculated distance for a_minus, b: 7302.28 parsecs\n",
      "Calculated distance for a_minus, b_minus: 6659.76 parsecs\n",
      "Calculated distance for a_minus, b_plus: 8006.79 parsecs\n",
      "Calculated distance for a_plus, b: 8139.12 parsecs\n",
      "Calculated distance for a_plus, b_minus: 7422.97 parsecs\n",
      "Calculated distance for a_plus, b_plus: 8924.37 parsecs\n"
     ]
    }
   ],
   "source": [
    "import numpy as np\n",
    "\n",
    "def calculate_distance(F_Halpha, angular_diameter):\n",
    "    \"\"\"\n",
    "    Calculate the distance to a planetary nebula based on its Hα flux and angular diameter.\n",
    "    \n",
    "    Parameters:\n",
    "    F_Halpha (float): Hα flux in erg cm−2 s−1, already corrected for extinction.\n",
    "    angular_diameter (float): Angular diameter in arcseconds.\n",
    "    \n",
    "    Returns:\n",
    "    dict: Distances in parsecs for each combination of a and b.\n",
    "    \"\"\"\n",
    "    # Convert angular diameter to angular radius, then to radians\n",
    "    theta_radians = np.radians((angular_diameter / 2) / 3600)\n",
    "\n",
    "    # Calculate Hα surface brightness using the given formula\n",
    "    S0_Halpha = (F_Halpha * 10**10.629) / (np.pi * theta_radians**2)\n",
    "\n",
    "    # Calculate the log of the Hα surface brightness\n",
    "    log_S0_Halpha = np.log10(S0_Halpha)\n",
    "\n",
    "    # Constants for the distance calculation\n",
    "    a_values = {\n",
    "        \"a\": -0.267,      # Original slope\n",
    "        \"a_minus\": -0.267 - 0.0036,  # a - 0.005\n",
    "        \"a_plus\": -0.267 + 0.0036,   # a + 0.005\n",
    "    }\n",
    "    \n",
    "    b_values = {\n",
    "        \"b\": -4.45,       # Original intercept\n",
    "        \"b_minus\": -4.45 - 0.04,  # b - 0.05\n",
    "        \"b_plus\": -4.45 + 0.04,   # b + 0.05\n",
    "        }\n",
    "    distances = {}\n",
    "\n",
    "    for a_key, a in a_values.items():\n",
    "        for b_key, b in b_values.items():\n",
    "            # Calculate the physical radius in parsecs using the surface brightness\n",
    "            log_r = a * log_S0_Halpha + b\n",
    "            r = 10**log_r\n",
    "\n",
    "            # Calculate distance using the small angle formula approximated for small theta\n",
    "            distance = r / theta_radians * 10**5.314  # Convert theta from radians to parsecs scale\n",
    "            distances[f\"{a_key}, {b_key}\"] = distance\n",
    "\n",
    "    return distances\n",
    "\n",
    "# Example usage:\n",
    "F_Halpha_example = 7.4435e-14  # Example: Hα flux in erg cm−2 s−1 (already corrected for extinction)\n",
    "angular_diameter_example = 7  # Angular diameter in arcseconds\n",
    "\n",
    "distances = calculate_distance(F_Halpha_example, angular_diameter_example)\n",
    "\n",
    "# Print the results for each combination of a and b\n",
    "for key, distance in distances.items():\n",
    "    print(f\"Calculated distance for {key}: {distance:.2f} parsecs\")"
   ]
  },
  {
   "cell_type": "code",
   "execution_count": null,
   "id": "a97ba9b6-9e33-4ae0-831f-d971509b7b0e",
   "metadata": {},
   "outputs": [],
   "source": [
    "#48"
   ]
  },
  {
   "cell_type": "code",
   "execution_count": 40,
   "id": "b15fb9d1-8c98-4b95-af60-312e72400110",
   "metadata": {},
   "outputs": [
    {
     "name": "stdout",
     "output_type": "stream",
     "text": [
      "Calculated distance for a, b: 6385.95 parsecs\n",
      "Calculated distance for a, b_minus: 5824.06 parsecs\n",
      "Calculated distance for a, b_plus: 7002.05 parsecs\n",
      "Calculated distance for a_minus, b: 5932.36 parsecs\n",
      "Calculated distance for a_minus, b_minus: 5410.37 parsecs\n",
      "Calculated distance for a_minus, b_plus: 6504.70 parsecs\n",
      "Calculated distance for a_plus, b: 6874.22 parsecs\n",
      "Calculated distance for a_plus, b_minus: 6269.37 parsecs\n",
      "Calculated distance for a_plus, b_plus: 7537.44 parsecs\n"
     ]
    }
   ],
   "source": [
    "import numpy as np\n",
    "\n",
    "def calculate_distance(F_Halpha, angular_diameter):\n",
    "    \"\"\"\n",
    "    Calculate the distance to a planetary nebula based on its Hα flux and angular diameter.\n",
    "    \n",
    "    Parameters:\n",
    "    F_Halpha (float): Hα flux in erg cm−2 s−1, already corrected for extinction.\n",
    "    angular_diameter (float): Angular diameter in arcseconds.\n",
    "    \n",
    "    Returns:\n",
    "    dict: Distances in parsecs for each combination of a and b.\n",
    "    \"\"\"\n",
    "    # Convert angular diameter to angular radius, then to radians\n",
    "    theta_radians = np.radians((angular_diameter / 2) / 3600)\n",
    "\n",
    "    # Calculate Hα surface brightness using the given formula\n",
    "    S0_Halpha = (F_Halpha * 10**10.629) / (np.pi * theta_radians**2)\n",
    "\n",
    "    # Calculate the log of the Hα surface brightness\n",
    "    log_S0_Halpha = np.log10(S0_Halpha)\n",
    "\n",
    "    # Constants for the distance calculation\n",
    "    a_values = {\n",
    "        \"a\": -0.267,      # Original slope\n",
    "        \"a_minus\": -0.267 - 0.0036,  # a - 0.0036\n",
    "        \"a_plus\": -0.267 + 0.0036,   # a + 0.0036\n",
    "    }\n",
    "    \n",
    "    b_values = {\n",
    "        \"b\": -4.45,       # Original intercept\n",
    "        \"b_minus\": -4.45 - 0.04,  # b - 0.04\n",
    "        \"b_plus\": -4.45 + 0.04,   # b + 0.04\n",
    "        }\n",
    "    distances = {}\n",
    "\n",
    "    for a_key, a in a_values.items():\n",
    "        for b_key, b in b_values.items():\n",
    "            # Calculate the physical radius in parsecs using the surface brightness\n",
    "            log_r = a * log_S0_Halpha + b\n",
    "            r = 10**log_r\n",
    "\n",
    "            # Calculate distance using the small angle formula approximated for small theta\n",
    "            distance = r / theta_radians * 10**5.314  # Convert theta from radians to parsecs scale\n",
    "            distances[f\"{a_key}, {b_key}\"] = distance\n",
    "\n",
    "    return distances\n",
    "\n",
    "# Example usage:\n",
    "F_Halpha_example = 1.3418e-12  # Example: Hα flux in erg cm−2 s−1 (already corrected for extinction)\n",
    "angular_diameter_example = 2  # Angular diameter in arcseconds\n",
    "\n",
    "distances = calculate_distance(F_Halpha_example, angular_diameter_example)\n",
    "\n",
    "# Print the results for each combination of a and b\n",
    "for key, distance in distances.items():\n",
    "    print(f\"Calculated distance for {key}: {distance:.2f} parsecs\")"
   ]
  },
  {
   "cell_type": "code",
   "execution_count": null,
   "id": "d95a6ff1-ee1b-449d-ab35-415bdd59823e",
   "metadata": {},
   "outputs": [],
   "source": [
    "#63"
   ]
  },
  {
   "cell_type": "code",
   "execution_count": 41,
   "id": "09163759-b73c-46b7-9dec-2c7a69b149cc",
   "metadata": {},
   "outputs": [
    {
     "name": "stdout",
     "output_type": "stream",
     "text": [
      "Calculated distance for a, b: 15131.49 parsecs\n",
      "Calculated distance for a, b_minus: 13800.08 parsecs\n",
      "Calculated distance for a, b_plus: 16591.34 parsecs\n",
      "Calculated distance for a_minus, b: 14599.22 parsecs\n",
      "Calculated distance for a_minus, b_minus: 13314.64 parsecs\n",
      "Calculated distance for a_minus, b_plus: 16007.72 parsecs\n",
      "Calculated distance for a_plus, b: 15683.16 parsecs\n",
      "Calculated distance for a_plus, b_minus: 14303.21 parsecs\n",
      "Calculated distance for a_plus, b_plus: 17196.25 parsecs\n"
     ]
    }
   ],
   "source": [
    "import numpy as np\n",
    "\n",
    "def calculate_distance(F_Halpha, angular_diameter):\n",
    "    \"\"\"\n",
    "    Calculate the distance to a planetary nebula based on its Hα flux and angular diameter.\n",
    "    \n",
    "    Parameters:\n",
    "    F_Halpha (float): Hα flux in erg cm−2 s−1, already corrected for extinction.\n",
    "    angular_diameter (float): Angular diameter in arcseconds.\n",
    "    \n",
    "    Returns:\n",
    "    dict: Distances in parsecs for each combination of a and b.\n",
    "    \"\"\"\n",
    "    # Convert angular diameter to angular radius, then to radians\n",
    "    theta_radians = np.radians((angular_diameter / 2) / 3600)\n",
    "\n",
    "    # Calculate Hα surface brightness using the given formula\n",
    "    S0_Halpha = (F_Halpha * 10**10.629) / (np.pi * theta_radians**2)\n",
    "\n",
    "    # Calculate the log of the Hα surface brightness\n",
    "    log_S0_Halpha = np.log10(S0_Halpha)\n",
    "\n",
    "    # Constants for the distance calculation\n",
    "    a_values = {\n",
    "        \"a\": -0.267,      # Original slope\n",
    "        \"a_minus\": -0.267 - 0.0036,  # a - 0.005\n",
    "        \"a_plus\": -0.267 + 0.0036,   # a + 0.005\n",
    "    }\n",
    "    \n",
    "    b_values = {\n",
    "        \"b\": -4.45,       # Original intercept\n",
    "        \"b_minus\": -4.45 - 0.04,  # b - 0.05\n",
    "        \"b_plus\": -4.45 + 0.04,   # b + 0.05\n",
    "        }\n",
    "    distances = {}\n",
    "\n",
    "    for a_key, a in a_values.items():\n",
    "        for b_key, b in b_values.items():\n",
    "            # Calculate the physical radius in parsecs using the surface brightness\n",
    "            log_r = a * log_S0_Halpha + b\n",
    "            r = 10**log_r\n",
    "\n",
    "            # Calculate distance using the small angle formula approximated for small theta\n",
    "            distance = r / theta_radians * 10**5.314  # Convert theta from radians to parsecs scale\n",
    "            distances[f\"{a_key}, {b_key}\"] = distance\n",
    "\n",
    "    return distances\n",
    "\n",
    "# Example usage:\n",
    "F_Halpha_example = 1.7763e-15  # Example: Hα flux in erg cm−2 s−1 (already corrected for extinction)\n",
    "angular_diameter_example = 14  # Angular diameter in arcseconds\n",
    "\n",
    "distances = calculate_distance(F_Halpha_example, angular_diameter_example)\n",
    "\n",
    "# Print the results for each combination of a and b\n",
    "for key, distance in distances.items():\n",
    "    print(f\"Calculated distance for {key}: {distance:.2f} parsecs\")"
   ]
  },
  {
   "cell_type": "code",
   "execution_count": null,
   "id": "335a99a3-6f1f-4bf7-a40c-0fb7739b439e",
   "metadata": {},
   "outputs": [],
   "source": [
    "#59"
   ]
  },
  {
   "cell_type": "code",
   "execution_count": 42,
   "id": "acec20a2-3845-49fa-a644-b7584cb8a1f8",
   "metadata": {},
   "outputs": [
    {
     "name": "stdout",
     "output_type": "stream",
     "text": [
      "Calculated distance for a, b: 9241.60 parsecs\n",
      "Calculated distance for a, b_minus: 8428.44 parsecs\n",
      "Calculated distance for a, b_plus: 10133.21 parsecs\n",
      "Calculated distance for a_minus, b: 8654.06 parsecs\n",
      "Calculated distance for a_minus, b_minus: 7892.60 parsecs\n",
      "Calculated distance for a_minus, b_plus: 9488.99 parsecs\n",
      "Calculated distance for a_plus, b: 9869.03 parsecs\n",
      "Calculated distance for a_plus, b_minus: 9000.66 parsecs\n",
      "Calculated distance for a_plus, b_plus: 10821.18 parsecs\n"
     ]
    }
   ],
   "source": [
    "import numpy as np\n",
    "\n",
    "def calculate_distance(F_Halpha, angular_diameter):\n",
    "    \"\"\"\n",
    "    Calculate the distance to a planetary nebula based on its Hα flux and angular diameter.\n",
    "    \n",
    "    Parameters:\n",
    "    F_Halpha (float): Hα flux in erg cm−2 s−1, already corrected for extinction.\n",
    "    angular_diameter (float): Angular diameter in arcseconds.\n",
    "    \n",
    "    Returns:\n",
    "    dict: Distances in parsecs for each combination of a and b.\n",
    "    \"\"\"\n",
    "    # Convert angular diameter to angular radius, then to radians\n",
    "    theta_radians = np.radians((angular_diameter / 2) / 3600)\n",
    "\n",
    "    # Calculate Hα surface brightness using the given formula\n",
    "    S0_Halpha = (F_Halpha * 10**10.629) / (np.pi * theta_radians**2)\n",
    "\n",
    "    # Calculate the log of the Hα surface brightness\n",
    "    log_S0_Halpha = np.log10(S0_Halpha)\n",
    "\n",
    "    # Constants for the distance calculation\n",
    "    a_values = {\n",
    "        \"a\": -0.267,      # Original slope\n",
    "        \"a_minus\": -0.267 - 0.0036,  # a - 0.0036\n",
    "        \"a_plus\": -0.267 + 0.0036,   # a + 0.0036\n",
    "    }\n",
    "    \n",
    "    b_values = {\n",
    "        \"b\": -4.45,       # Original intercept\n",
    "        \"b_minus\": -4.45 - 0.04,  # b - 0.04\n",
    "        \"b_plus\": -4.45 + 0.04,   # b + 0.04\n",
    "        }\n",
    "    distances = {}\n",
    "\n",
    "    for a_key, a in a_values.items():\n",
    "        for b_key, b in b_values.items():\n",
    "            # Calculate the physical radius in parsecs using the surface brightness\n",
    "            log_r = a * log_S0_Halpha + b\n",
    "            r = 10**log_r\n",
    "\n",
    "            # Calculate distance using the small angle formula approximated for small theta\n",
    "            distance = r / theta_radians * 10**5.314  # Convert theta from radians to parsecs scale\n",
    "            distances[f\"{a_key}, {b_key}\"] = distance\n",
    "\n",
    "    return distances\n",
    "\n",
    "# Example usage:\n",
    "F_Halpha_example = 2.2769e-13  # Example: Hα flux in erg cm−2 s−1 (already corrected for extinction)\n",
    "angular_diameter_example = 2.5  # Angular diameter in arcseconds\n",
    "\n",
    "distances = calculate_distance(F_Halpha_example, angular_diameter_example)\n",
    "\n",
    "# Print the results for each combination of a and b\n",
    "for key, distance in distances.items():\n",
    "    print(f\"Calculated distance for {key}: {distance:.2f} parsecs\")"
   ]
  },
  {
   "cell_type": "code",
   "execution_count": null,
   "id": "28764bf4-ec46-4c04-b3c1-2f88ca96eb63",
   "metadata": {},
   "outputs": [],
   "source": []
  }
 ],
 "metadata": {
  "kernelspec": {
   "display_name": "Python 3 (ipykernel)",
   "language": "python",
   "name": "python3"
  },
  "language_info": {
   "codemirror_mode": {
    "name": "ipython",
    "version": 3
   },
   "file_extension": ".py",
   "mimetype": "text/x-python",
   "name": "python",
   "nbconvert_exporter": "python",
   "pygments_lexer": "ipython3",
   "version": "3.11.5"
  }
 },
 "nbformat": 4,
 "nbformat_minor": 5
}
