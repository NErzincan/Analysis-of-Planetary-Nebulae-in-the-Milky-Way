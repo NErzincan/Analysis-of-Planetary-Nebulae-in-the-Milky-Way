{
 "cells": [
  {
   "cell_type": "code",
   "execution_count": 1,
   "id": "11dd1578",
   "metadata": {},
   "outputs": [],
   "source": [
    "import astropy"
   ]
  },
  {
   "cell_type": "code",
   "execution_count": 2,
   "id": "d712ce3d",
   "metadata": {},
   "outputs": [
    {
     "ename": "ModuleNotFoundError",
     "evalue": "No module named 'spectutils'",
     "output_type": "error",
     "traceback": [
      "\u001b[0;31m---------------------------------------------------------------------------\u001b[0m",
      "\u001b[0;31mModuleNotFoundError\u001b[0m                       Traceback (most recent call last)",
      "Cell \u001b[0;32mIn[2], line 1\u001b[0m\n\u001b[0;32m----> 1\u001b[0m \u001b[38;5;28;01mimport\u001b[39;00m \u001b[38;5;21;01mspectutils\u001b[39;00m \u001b[38;5;28;01mas\u001b[39;00m \u001b[38;5;21;01mspu\u001b[39;00m\n",
      "\u001b[0;31mModuleNotFoundError\u001b[0m: No module named 'spectutils'"
     ]
    }
   ],
   "source": [
    "import spectutils as spu"
   ]
  },
  {
   "cell_type": "code",
   "execution_count": 3,
   "id": "e834fa0d",
   "metadata": {},
   "outputs": [
    {
     "name": "stdout",
     "output_type": "stream",
     "text": [
      "\u001b[31mERROR: Could not find a version that satisfies the requirement spectutils (from versions: none)\u001b[0m\u001b[31m\n",
      "\u001b[0m\u001b[31mERROR: No matching distribution found for spectutils\u001b[0m\u001b[31m\n",
      "\u001b[0mNote: you may need to restart the kernel to use updated packages.\n"
     ]
    }
   ],
   "source": [
    "pip install spectutils"
   ]
  },
  {
   "cell_type": "code",
   "execution_count": 6,
   "id": "d719c4da",
   "metadata": {},
   "outputs": [],
   "source": [
    "import specutils as sp"
   ]
  },
  {
   "cell_type": "code",
   "execution_count": 7,
   "id": "6858d150",
   "metadata": {},
   "outputs": [],
   "source": [
    "sp.Spectrum1D?"
   ]
  },
  {
   "cell_type": "code",
   "execution_count": 9,
   "id": "de06b788",
   "metadata": {},
   "outputs": [
    {
     "data": {
      "text/plain": [
       "[<matplotlib.lines.Line2D at 0x13f94c510>]"
      ]
     },
     "execution_count": 9,
     "metadata": {},
     "output_type": "execute_result"
    },
    {
     "data": {
      "image/png": "[encoded data removed]",
      "text/plain": [
       "<Figure size 640x480 with 1 Axes>"
      ]
     },
     "metadata": {},
     "output_type": "display_data"
    }
   ],
   "source": [
    "import numpy as np\n",
    "from astropy import units as u\n",
    "from astropy.nddata import StdDevUncertainty\n",
    "from astropy.modeling import models\n",
    "from specutils import Spectrum1D, SpectralRegion\n",
    "np.random.seed(50)\n",
    "spectral_axis = np.linspace(11., 1., 200) * u.GHz\n",
    "spectral_model = models.Gaussian1D(amplitude=5*(2*np.pi*0.8**2)**-0.5*u.Jy, mean=5*u.GHz, stddev=0.8*u.GHz)\n",
    "flux = spectral_model(spectral_axis)\n",
    "flux += np.random.normal(0., 0.05, spectral_axis.shape) * u.Jy\n",
    "uncertainty = StdDevUncertainty(0.2*np.ones(flux.shape)*u.Jy)\n",
    "noisy_gaussian = Spectrum1D(spectral_axis=spectral_axis, flux=flux, uncertainty=uncertainty)\n",
    "import matplotlib.pyplot as plt \n",
    "plt.step(noisy_gaussian.spectral_axis, noisy_gaussian.flux)"
   ]
  },
  {
   "cell_type": "code",
   "execution_count": 10,
   "id": "c24361b1",
   "metadata": {},
   "outputs": [
    {
     "data": {
      "text/plain": [
       "'MaNGA cube'"
      ]
     },
     "execution_count": 10,
     "metadata": {},
     "output_type": "execute_result"
    }
   ],
   "source": [
    "from astropy.utils.data import download_file\n",
    "from specutils.io.registers import identify_spectrum_format\n",
    "\n",
    "url = 'https://dr15.sdss.org/sas/dr15/manga/spectro/redux/v2_4_3/8485/stack/manga-8485-1901-LOGCUBE.fits.gz'\n",
    "dd = download_file(url)  \n",
    "identify_spectrum_format(dd)  \n",
    "'MaNGA cube'"
   ]
  },
  {
   "cell_type": "code",
   "execution_count": 11,
   "id": "8fa7cbc3",
   "metadata": {},
   "outputs": [],
   "source": [
    "sp.Spectrum1D?"
   ]
  },
  {
   "cell_type": "code",
   "execution_count": null,
   "id": "9ff365d2",
   "metadata": {},
   "outputs": [],
   "source": [
    "import numpy as np\n",
    "import matplotlib.pyplot as plt\n",
    "\n",
    "from astropy.modeling import models\n",
    "from astropy import units as u\n",
    "\n",
    "from specutils.spectra import Spectrum1D\n",
    "from specutils.fitting import fit_lines\n",
    "\n",
    "# Create a simple spectrum with a Gaussian.\n",
    "np.random.seed(42)\n",
    "\n",
    "g1 = models.Gaussian1D(1, 4.6, 0.2)\n",
    "g2 = models.Gaussian1D(2.5, 5.5, 0.1)\n",
    "x = np.linspace(0, 10, 200)\n",
    "y = g1(x) + g2(x) + np.random.normal(0., 0.2, x.shape)\n",
    "\n",
    "# Create the spectrum to fit\n",
    "spectrum = Spectrum1D(flux=y*u.Jy, spectral_axis=x*u.um)\n",
    "\n",
    "# Fit the spectrum\n",
    "g1_init = models.Gaussian1D(amplitude=2.3*u.Jy, mean=5.6*u.um, stddev=0.1*u.um)\n",
    "g2_init = models.Gaussian1D(amplitude=1.*u.Jy, mean=4.4*u.um, stddev=0.1*u.um)\n",
    "g12_fit = fit_lines(spectrum, g1_init+g2_init)\n",
    "y_fit = g12_fit(x*u.um)\n",
    "\n",
    "plt.plot(x, y)\n",
    "plt.plot(x, y_fit)\n",
    "plt.title('Double Peak Fit')\n",
    "plt.grid(True)"
   ]
  },
  {
   "cell_type": "code",
   "execution_count": 12,
   "id": "cee63574",
   "metadata": {},
   "outputs": [
    {
     "ename": "ModuleNotFoundError",
     "evalue": "No module named 'pyraf'",
     "output_type": "error",
     "traceback": [
      "\u001b[0;31m---------------------------------------------------------------------------\u001b[0m",
      "\u001b[0;31mModuleNotFoundError\u001b[0m                       Traceback (most recent call last)",
      "Cell \u001b[0;32mIn[12], line 1\u001b[0m\n\u001b[0;32m----> 1\u001b[0m \u001b[38;5;28;01mfrom\u001b[39;00m \u001b[38;5;21;01mpyraf\u001b[39;00m \u001b[38;5;28;01mimport\u001b[39;00m iraf\n",
      "\u001b[0;31mModuleNotFoundError\u001b[0m: No module named 'pyraf'"
     ]
    }
   ],
   "source": [
    "from pyraf import iraf"
   ]
  },
  {
   "cell_type": "code",
   "execution_count": 13,
   "id": "fba86325",
   "metadata": {},
   "outputs": [
    {
     "name": "stdout",
     "output_type": "stream",
     "text": [
      "Collecting pyraf\n",
      "  Downloading pyraf-2.2.1.tar.gz (602 kB)\n",
      "\u001b[2K     \u001b[90m━━━━━━━━━━━━━━━━━━━━━━━━━━━━━━━━━━━━━\u001b[0m \u001b[32m602.0/602.0 kB\u001b[0m \u001b[31m704.3 kB/s\u001b[0m eta \u001b[36m0:00:00\u001b[0ma \u001b[36m0:00:01\u001b[0m\n",
      "\u001b[?25h  Preparing metadata (setup.py) ... \u001b[?25ldone\n",
      "\u001b[?25hRequirement already satisfied: numpy in /Users/nurullah/anaconda3/lib/python3.11/site-packages (from pyraf) (1.26.3)\n",
      "Collecting configobj (from pyraf)\n",
      "  Downloading configobj-5.0.8-py2.py3-none-any.whl.metadata (3.4 kB)\n",
      "Requirement already satisfied: six in /Users/nurullah/anaconda3/lib/python3.11/site-packages (from configobj->pyraf) (1.16.0)\n",
      "Downloading configobj-5.0.8-py2.py3-none-any.whl (36 kB)\n",
      "Building wheels for collected packages: pyraf\n",
      "  Building wheel for pyraf (setup.py) ... \u001b[?25ldone\n",
      "\u001b[?25h  Created wheel for pyraf: filename=pyraf-2.2.1-cp311-cp311-macosx_11_0_arm64.whl size=546546 sha256=83325694785454c7f228ca6f35f7a84f177925d550dd7c37febaad2a2ce3cd84\n",
      "  Stored in directory: /Users/nurullah/Library/Caches/pip/wheels/11/27/a2/a87f483964e5b203891b8820c0eba1eace06a1b413c9025521\n",
      "Successfully built pyraf\n",
      "Installing collected packages: configobj, pyraf\n",
      "Successfully installed configobj-5.0.8 pyraf-2.2.1\n",
      "Note: you may need to restart the kernel to use updated packages.\n"
     ]
    }
   ],
   "source": [
    "pip install pyraf"
   ]
  },
  {
   "cell_type": "code",
   "execution_count": 22,
   "id": "4e584eff",
   "metadata": {
    "scrolled": false
   },
   "outputs": [
    {
     "name": "stdout",
     "output_type": "stream",
     "text": [
      "Filename: /Users/nurullah/Desktop/true_PNe/alfa_neat_out/neat_out/fits/png019.fits_lines.fits\n",
      "No.    Name      Ver    Type      Cards   Dimensions   Format\n",
      "  0  PRIMARY       1 PrimaryHDU       9   ()      \n",
      "  1  LINES         1 BinTableHDU     51   94R x 18C   [1E, 1E, 1E, 1E, 1E, 1E, 16A, 16A, 16A, 16A, 1I, 1I, 1E, 1E, 1E, 1E, 1E, 1E]   \n",
      "  2  RESULTS       1 BinTableHDU     22   166R x 4C   [40A, 1E, 1E, 1E]   \n",
      "  3  QC            1 BinTableHDU     13   1R x 2C   [1L, 1L]   \n",
      "\n",
      "None\n"
     ]
    }
   ],
   "source": [
    "##### HDUL OKUMA ######\n",
    "\n",
    "\n",
    "\n",
    "import numpy as np\n",
    "from astropy.io import fits\n",
    "\n",
    "# Specify the path to your FITS file\n",
    "fits_file_path = '/Users/nurullah/Desktop/true_PNe/alfa_neat_out/neat_out/fits/png019.fits_lines.fits'\n",
    "# Open the FITS file\n",
    "with fits.open(fits_file_path) as hdul:\n",
    "    # Access the data in the FITS file\n",
    "    primary_hdu = hdul[0]\n",
    "    data = primary_hdu.data\n",
    "    \n",
    "with fits.open(fits_file_path) as hdul:\n",
    "    hdul.info()\n",
    "\n",
    "    # Print the transposed data\n",
    "    print(\"\")\n",
    "    print(data)"
   ]
  },
  {
   "cell_type": "code",
   "execution_count": null,
   "id": "2b77b252",
   "metadata": {},
   "outputs": [],
   "source": []
  }
 ],
 "metadata": {
  "kernelspec": {
   "display_name": "Python 3 (ipykernel)",
   "language": "python",
   "name": "python3"
  },
  "language_info": {
   "codemirror_mode": {
    "name": "ipython",
    "version": 3
   },
   "file_extension": ".py",
   "mimetype": "text/x-python",
   "name": "python",
   "nbconvert_exporter": "python",
   "pygments_lexer": "ipython3",
   "version": "3.11.5"
  }
 },
 "nbformat": 4,
 "nbformat_minor": 5
}
