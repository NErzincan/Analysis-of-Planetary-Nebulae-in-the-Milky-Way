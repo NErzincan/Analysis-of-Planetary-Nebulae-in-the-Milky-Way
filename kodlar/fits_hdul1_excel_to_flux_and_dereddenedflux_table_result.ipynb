{
 "cells": [
  {
   "cell_type": "code",
   "execution_count": 1,
   "id": "f11a2b3b",
   "metadata": {},
   "outputs": [
    {
     "name": "stdout",
     "output_type": "stream",
     "text": [
      "Data has been successfully exported to /Users/nurullah/Desktop/galaxy_abudance/sigma_karşılaştırma/batch_1.xlsx\n"
     ]
    }
   ],
   "source": [
    "from astropy.io import fits\n",
    "import pandas as pd\n",
    "import os\n",
    "\n",
    "# Dizin içindeki tüm FITS dosyalarını al\n",
    "fits_directory = '/Users/nurullah/Desktop/galaxy_abudance/sigma_karşılaştırma/'\n",
    "fits_file_paths = [os.path.join(fits_directory, file) for file in sorted(os.listdir(fits_directory)) if file.endswith('.fits')]\n",
    "\n",
    "# Excel dosyalarının kaydedileceği dizin\n",
    "output_directory = '/Users/nurullah/Desktop/galaxy_abudance/sigma_karşılaştırma/'\n",
    "os.makedirs(output_directory, exist_ok=True)\n",
    "\n",
    "# Her 50 FITS dosyası için ayrı bir Excel dosyası oluştur\n",
    "batch_size = 50\n",
    "for i in range(0, len(fits_file_paths), batch_size):\n",
    "    batch_fits_files = fits_file_paths[i:i + batch_size]\n",
    "\n",
    "    # Excel dosyasının ismini belirle\n",
    "    excel_file_name = f'batch_{i // batch_size + 1}.xlsx'\n",
    "    excel_file_path = os.path.join(output_directory, excel_file_name)\n",
    "\n",
    "    # Her FITS dosyası için döngü\n",
    "    with pd.ExcelWriter(excel_file_path, engine='openpyxl') as writer:\n",
    "        for fits_file_path in batch_fits_files:\n",
    "            # Open the FITS file\n",
    "            with fits.open(fits_file_path) as hdul:\n",
    "                # Access the data and header of the LINES BinTableHDU (hdul[2])\n",
    "                data = hdul[1].data\n",
    "\n",
    "                # Convert the FITS data to a pandas DataFrame\n",
    "                df = pd.DataFrame(data)\n",
    "\n",
    "                # Sadece belirtilen sütunları seç\n",
    "                selected_columns = ['WlenRest', 'Flux', 'Uncertainty', 'Ion', 'DereddenedFlux', 'DereddenedFluxLo', 'DereddenedFluxHi']\n",
    "                df_selected = df[selected_columns]\n",
    "\n",
    "                # Negatif ve sıfıra eşit olan değerlere sahip satırları filtrele ve sil\n",
    "                df_selected = df_selected[df_selected['Flux'] > 0.01]\n",
    "\n",
    "                # Sayfa adını dosya isminin _id karakterinden sonrasına ayarla\n",
    "                #sheet_name = os.path.basename(fits_file_path).split('_id')[1]\n",
    "                sheet_name = os.path.basename(fits_file_path)[:30]\n",
    "\n",
    "                # Verileri içeren DataFrame'i yeni bir sayfada kaydet\n",
    "                df_selected.to_excel(writer, sheet_name=sheet_name, index=False)\n",
    "\n",
    "    print(f\"Data has been successfully exported to {excel_file_path}\")"
   ]
  },
  {
   "cell_type": "code",
   "execution_count": 7,
   "id": "fdd90664",
   "metadata": {},
   "outputs": [
    {
     "name": "stdout",
     "output_type": "stream",
     "text": [
      "Merged, sorted data has been successfully added to the sheet Flux_Tablo in the Excel file.\n"
     ]
    },
    {
     "name": "stderr",
     "output_type": "stream",
     "text": [
      "/var/folders/ry/6rcrw5vs4f33lx3wyt4f6m5w0000gn/T/ipykernel_62689/1602023791.py:38: FutureWarning: Setting an item of incompatible dtype is deprecated and will raise in a future error of pandas. Value '-' has dtype incompatible with float64, please explicitly cast to a compatible dtype first.\n",
      "  main_df.fillna('-', inplace=True)\n"
     ]
    }
   ],
   "source": [
    "import pandas as pd\n",
    "import os\n",
    "\n",
    "# Excel dosyalarının bulunduğu klasörün tam yolu\n",
    "excel_folder_path = '/Users/nurullah/Desktop/galaxy_abudance/Uzak_Pc/sigma4/'\n",
    "\n",
    "# Tüm Excel dosyalarını al\n",
    "excel_files = [os.path.join(excel_folder_path, file) for file in sorted(os.listdir(excel_folder_path)) if file.endswith('.xlsx')]\n",
    "\n",
    "# Birleştirilecek verileri tutacak ana DataFrame'i oluştur\n",
    "main_df = pd.DataFrame()\n",
    "\n",
    "# Her Excel dosyası için döngü\n",
    "for excel_file_path in excel_files:\n",
    "    # Excel dosyasını oku\n",
    "    df = pd.read_excel(excel_file_path, sheet_name=None)\n",
    "\n",
    "    # Her sayfa için döngü\n",
    "    for sheet_name, sheet_data in df.items():\n",
    "        # 'WlenRest', 'Ion', 'Flux', 'Uncertainty' sütunlarını içeren sayfaları seç\n",
    "        #if all(col in sheet_data.columns for col in ['WlenRest', 'Ion', 'Flux', 'Uncertainty']):\n",
    "        if all(col in sheet_data.columns for col in ['WlenRest', 'Ion', 'Flux']):\n",
    "            # Eğer ana DataFrame boşsa, direkt ekle\n",
    "            if main_df.empty:\n",
    "                #main_df = sheet_data[['WlenRest', 'Ion', 'Flux', 'Uncertainty']].copy()\n",
    "                main_df = sheet_data[['WlenRest', 'Ion', 'Flux']].copy()\n",
    "                #main_df.rename(columns={'Flux': f'Flux_{sheet_name}', 'Uncertainty': f'Uncertainty_{sheet_name}'}, inplace=True)\n",
    "                main_df.rename(columns={'Flux': f'Flux_{sheet_name}'}, inplace=True)\n",
    "            else:\n",
    "                # Ana DataFrame'de 'WlenRest' ve 'Ion' sütunlarına göre birleştirme yap\n",
    "                #main_df = main_df.merge(sheet_data[['WlenRest', 'Ion', 'Flux', 'Uncertainty']],\n",
    "                main_df = main_df.merge(sheet_data[['WlenRest', 'Ion', 'Flux']],\n",
    "                                        on=['WlenRest', 'Ion'],\n",
    "                                        how='outer',\n",
    "                                        suffixes=('', f'_{sheet_name}'))\n",
    "\n",
    "# NaN değerleri '-' ile değiştir\n",
    "main_df.fillna('-', inplace=True)\n",
    "\n",
    "# 'WlenRest' sütununa göre küçükten büyüğe sırala\n",
    "main_df.sort_values('WlenRest', inplace=True)\n",
    "\n",
    "# Excel dosyasına ekleyeceğimiz sayfa adı\n",
    "new_sheet_name = 'Flux_Tablo'\n",
    "\n",
    "# Yeni bir Excel dosyası oluştur\n",
    "output_excel_file_path = '/Users/nurullah/Desktop/galaxy_abudance/Uzak_Pc/sigma4/Fluxtablo.xlsx'\n",
    "with pd.ExcelWriter(output_excel_file_path, engine='openpyxl') as writer:\n",
    "    main_df.to_excel(writer, sheet_name=new_sheet_name, index=False)\n",
    "\n",
    "print(f\"Merged, sorted data has been successfully added to the sheet {new_sheet_name} in the Excel file.\")"
   ]
  },
  {
   "cell_type": "code",
   "execution_count": 5,
   "id": "ca5a5deb",
   "metadata": {},
   "outputs": [
    {
     "name": "stdout",
     "output_type": "stream",
     "text": [
      "Merged, sorted data has been successfully added to the sheet DereddenedFlux_Tablo in the Excel file.\n"
     ]
    },
    {
     "name": "stderr",
     "output_type": "stream",
     "text": [
      "/var/folders/ry/6rcrw5vs4f33lx3wyt4f6m5w0000gn/T/ipykernel_62689/842321766.py:38: FutureWarning: Setting an item of incompatible dtype is deprecated and will raise in a future error of pandas. Value '-' has dtype incompatible with float64, please explicitly cast to a compatible dtype first.\n",
      "  main_df.fillna('-', inplace=True)\n"
     ]
    }
   ],
   "source": [
    "import pandas as pd\n",
    "import os\n",
    "\n",
    "# Excel dosyalarının bulunduğu klasörün tam yolu\n",
    "excel_folder_path = '/Users/nurullah/Desktop/galaxy_abudance/Uzak_Pc/sigma4/'\n",
    "\n",
    "# Tüm Excel dosyalarını al\n",
    "excel_files = [os.path.join(excel_folder_path, file) for file in sorted(os.listdir(excel_folder_path)) if file.endswith('.xlsx')]\n",
    "\n",
    "# Birleştirilecek verileri tutacak ana DataFrame'i oluştur\n",
    "main_df = pd.DataFrame()\n",
    "\n",
    "# Her Excel dosyası için döngü\n",
    "for excel_file_path in excel_files:\n",
    "    # Excel dosyasını oku\n",
    "    df = pd.read_excel(excel_file_path, sheet_name=None)\n",
    "\n",
    "    # Her sayfa için döngü\n",
    "    for sheet_name, sheet_data in df.items():\n",
    "        # 'WlenRest', 'Ion', 'Flux', 'Uncertainty' sütunlarını içeren sayfaları seç\n",
    "        #if all(col in sheet_data.columns for col in ['WlenRest', 'Ion', 'Flux', 'Uncertainty']):\n",
    "        if all(col in sheet_data.columns for col in ['WlenRest', 'Ion', 'DereddenedFlux']):\n",
    "            # Eğer ana DataFrame boşsa, direkt ekle\n",
    "            if main_df.empty:\n",
    "                #main_df = sheet_data[['WlenRest', 'Ion', 'Flux', 'Uncertainty']].copy()\n",
    "                main_df = sheet_data[['WlenRest', 'Ion', 'DereddenedFlux']].copy()\n",
    "                #main_df.rename(columns={'Flux': f'Flux_{sheet_name}', 'Uncertainty': f'Uncertainty_{sheet_name}'}, inplace=True)\n",
    "                main_df.rename(columns={'DereddenedFlux': f'DereddenedFlux_{sheet_name}'}, inplace=True)\n",
    "            else:\n",
    "                # Ana DataFrame'de 'WlenRest' ve 'Ion' sütunlarına göre birleştirme yap\n",
    "                #main_df = main_df.merge(sheet_data[['WlenRest', 'Ion', 'Flux', 'Uncertainty']],\n",
    "                main_df = main_df.merge(sheet_data[['WlenRest', 'Ion', 'DereddenedFlux']],\n",
    "                                        on=['WlenRest', 'Ion'],\n",
    "                                        how='outer',\n",
    "                                        suffixes=('', f'_{sheet_name}'))\n",
    "\n",
    "# NaN değerleri '-' ile değiştir\n",
    "main_df.fillna('-', inplace=True)\n",
    "\n",
    "# 'WlenRest' sütununa göre küçükten büyüğe sırala\n",
    "main_df.sort_values('WlenRest', inplace=True)\n",
    "\n",
    "# Excel dosyasına ekleyeceğimiz sayfa adı\n",
    "new_sheet_name = 'DereddenedFlux_Tablo'\n",
    "\n",
    "# Yeni bir Excel dosyası oluştur\n",
    "output_excel_file_path = '/Users/nurullah/Desktop/galaxy_abudance/Uzak_Pc/sigma4/DereddenedFluxtablo.xlsx'\n",
    "with pd.ExcelWriter(output_excel_file_path, engine='openpyxl') as writer:\n",
    "    main_df.to_excel(writer, sheet_name=new_sheet_name, index=False)\n",
    "\n",
    "print(f\"Merged, sorted data has been successfully added to the sheet {new_sheet_name} in the Excel file.\")"
   ]
  },
  {
   "cell_type": "code",
   "execution_count": null,
   "id": "4e82ca7e",
   "metadata": {},
   "outputs": [],
   "source": []
  }
 ],
 "metadata": {
  "kernelspec": {
   "display_name": "Python 3 (ipykernel)",
   "language": "python",
   "name": "python3"
  },
  "language_info": {
   "codemirror_mode": {
    "name": "ipython",
    "version": 3
   },
   "file_extension": ".py",
   "mimetype": "text/x-python",
   "name": "python",
   "nbconvert_exporter": "python",
   "pygments_lexer": "ipython3",
   "version": "3.11.5"
  }
 },
 "nbformat": 4,
 "nbformat_minor": 5
}
