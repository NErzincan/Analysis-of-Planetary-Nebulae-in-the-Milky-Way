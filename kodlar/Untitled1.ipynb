{
 "cells": [
  {
   "cell_type": "code",
   "execution_count": 1,
   "id": "9c19124e",
   "metadata": {},
   "outputs": [
    {
     "name": "stdout",
     "output_type": "stream",
     "text": [
      "Tüm sonuçlar başarıyla 'gaia_all_results_deg0.01.xlsx' dosyasına kaydedildi.\n"
     ]
    }
   ],
   "source": [
    "from astroquery.gaia import Gaia\n",
    "from astropy import coordinates as coords\n",
    "from astropy import units as u\n",
    "import pandas as pd\n",
    "\n",
    "# Kaynakların bulunduğu txt dosyasının yolu\n",
    "file_path = \"/Users/nurullah/Desktop/galaxy_abudance/RaDec.txt\"\n",
    "\n",
    "# Kaynakları oku ve işle\n",
    "all_results = pd.DataFrame()  # Tüm sonuçları depolamak için bir DataFrame oluştur\n",
    "\n",
    "with open(file_path, \"r\") as file:\n",
    "    for line in file:\n",
    "        # Satırdaki Ra ve Dec değerlerini al\n",
    "        ra_str, dec_str = line.strip().split()\n",
    "\n",
    "        # Ra ve Dec değerlerini uygun formata dönüştür\n",
    "        ra_value = f\"{ra_str}d\"\n",
    "        dec_value = f\"{dec_str}d\"\n",
    "        \n",
    "        # Koordinatları oluştur\n",
    "        coo = coords.SkyCoord(ra=ra_value, dec=dec_value, unit=(u.degree, u.degree))\n",
    "\n",
    "        # Gaia veritabanına sorgu oluştur\n",
    "        query = f\"SELECT * FROM gaiadr2.gaia_source WHERE CONTAINS(POINT('ICRS', {coo.ra.deg}, {coo.dec.deg}), circle('ICRS', ra, dec, 0.01))=1\"\n",
    "\n",
    "        # Sorguyu gönder ve sonuçları al\n",
    "        job = Gaia.launch_job(query)\n",
    "        results = job.get_results()\n",
    "\n",
    "        # Sonuçları işle (örneğin, yazdır)\n",
    "        #print(f\"Ra: {ra_value}, Dec: {dec_value}\")\n",
    "\n",
    "        # Sonuçları DataFrame'e ekle\n",
    "        all_results = pd.concat([all_results, results.to_pandas()], ignore_index=True)\n",
    "\n",
    "# Tüm sonuçları bir Excel dosyasına kaydet\n",
    "excel_filename = \"gaia_all_results_deg0.01.xlsx\"\n",
    "all_results.to_excel(excel_filename, index=False)\n",
    "\n",
    "# Başarıyla kaydedildiğini bildirin\n",
    "print(f\"Tüm sonuçlar başarıyla '{excel_filename}' dosyasına kaydedildi.\")"
   ]
  },
  {
   "cell_type": "code",
   "execution_count": null,
   "id": "8584d8bc",
   "metadata": {},
   "outputs": [],
   "source": []
  }
 ],
 "metadata": {
  "kernelspec": {
   "display_name": "Python 3 (ipykernel)",
   "language": "python",
   "name": "python3"
  },
  "language_info": {
   "codemirror_mode": {
    "name": "ipython",
    "version": 3
   },
   "file_extension": ".py",
   "mimetype": "text/x-python",
   "name": "python",
   "nbconvert_exporter": "python",
   "pygments_lexer": "ipython3",
   "version": "3.11.5"
  }
 },
 "nbformat": 4,
 "nbformat_minor": 5
}
