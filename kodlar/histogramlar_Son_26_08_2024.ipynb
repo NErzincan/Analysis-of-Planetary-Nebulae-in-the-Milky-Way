{
 "cells": [
  {
   "cell_type": "code",
   "execution_count": 8,
   "id": "fe8ecc7f",
   "metadata": {
    "scrolled": true
   },
   "outputs": [
    {
     "name": "stdout",
     "output_type": "stream",
     "text": [
      "c(Hb) (Ha/Hb) - Tüm Veriler Medyanı (0 hariç): 1.34e+00\n",
      "c(Hb) (Ha/Hb) - Thin Disc Medyan (0 hariç): 1.54e+00\n",
      "c(Hb) (Ha/Hb) - Thick Disc Medyan (0 hariç): 9.25e-01\n",
      "c(Hb) (Ha/Hb) - Bulge Medyan (0 hariç): 1.67e+00\n",
      "c(Hb) (Ha/Hb) - Halo Medyan (0 hariç): 4.64e-01\n",
      "c(Hb) (Hg/Hb) - Tüm Veriler Medyanı (0 hariç): 3.15e+00\n",
      "c(Hb) (Hg/Hb) - Thin Disc Medyan (0 hariç): 3.02e+00\n",
      "c(Hb) (Hg/Hb) - Thick Disc Medyan (0 hariç): 1.93e+00\n",
      "c(Hb) (Hg/Hb) - Bulge Medyan (0 hariç): 3.58e+00\n",
      "c(Hb) (Hg/Hb) - Halo Medyan (0 hariç): 2.46e+00\n",
      "c(Hb) (Hd/Hb) - Tüm Veriler Medyanı (0 hariç): 1.50e+00\n",
      "c(Hb) (Hd/Hb) - Thin Disc Medyan (0 hariç): 1.52e+00\n",
      "c(Hb) (Hd/Hb) - Thick Disc Medyan (0 hariç): 1.17e+00\n",
      "c(Hb) (Hd/Hb) - Bulge Medyan (0 hariç): 2.12e+00\n",
      "c(Hb) (Hd/Hb) - Halo Medyan (0 hariç): 9.19e-01\n",
      "[OII] density - Tüm Veriler Medyanı (0 hariç): 5.90e+02\n",
      "[OII] density - Thin Disc Medyan (0 hariç): 5.40e+02\n",
      "[OII] density - Thick Disc Medyan (0 hariç): 2.14e+02\n",
      "[OII] density - Bulge Medyan (0 hariç): 2.13e+01\n",
      "[OII] density - Halo Medyan (0 hariç): 1.32e+03\n",
      "[S II] Density - Tüm Veriler Medyanı (0 hariç): 1.09e+03\n",
      "[S II] Density - Thin Disc Medyan (0 hariç): 1.04e+03\n",
      "[S II] Density - Thick Disc Medyan (0 hariç): 1.16e+03\n",
      "[S II] Density - Bulge Medyan (0 hariç): 1.51e+03\n",
      "[S II] Density - Halo Medyan (0 hariç): 1.71e+03\n",
      "[ArIV] density - Tüm Veriler Medyanı (0 hariç): 3.82e+03\n",
      "[ArIV] density - Thin Disc Medyan (0 hariç): 3.39e+03\n",
      "[ArIV] density - Thick Disc Medyan (0 hariç): 4.74e+02\n",
      "[ArIV] density - Bulge Medyan (0 hariç): 3.81e+03\n",
      "[OII] temperature - Tüm Veriler Medyanı (0 hariç): 3.50e+04\n",
      "[OII] temperature - Thin Disc Medyan (0 hariç): 1.41e+04\n",
      "[OII] temperature - Thick Disc Medyan (0 hariç): 1.86e+04\n",
      "[OII] temperature - Halo Medyan (0 hariç): 1.85e+04\n",
      "[S II] temperature - Tüm Veriler Medyanı (0 hariç): nan\n",
      "[N II] temperature - Tüm Veriler Medyanı (0 hariç): 1.18e+04\n",
      "[N II] temperature - Thin Disc Medyan (0 hariç): 1.06e+04\n",
      "[N II] temperature - Thick Disc Medyan (0 hariç): 1.07e+04\n",
      "[N II] temperature - Bulge Medyan (0 hariç): 9.86e+03\n",
      "[N II] temperature - Halo Medyan (0 hariç): 1.08e+04\n",
      "[OI] temperature - Tüm Veriler Medyanı (0 hariç): nan\n",
      "[O III] Temperature - Tüm Veriler Medyanı (0 hariç): 1.10e+04\n",
      "[O III] Temperature - Thin Disc Medyan (0 hariç): 1.05e+04\n",
      "[O III] Temperature - Thick Disc Medyan (0 hariç): 1.06e+04\n",
      "[O III] Temperature - Bulge Medyan (0 hariç): 1.16e+04\n",
      "[O III] Temperature - Halo Medyan (0 hariç): 9.76e+03\n",
      "[NeIII] temperature - Tüm Veriler Medyanı (0 hariç): nan\n",
      "[ArIII] temperature - Tüm Veriler Medyanı (0 hariç): 3.50e+04\n",
      "[ArIII] temperature - Thin Disc Medyan (0 hariç): 1.40e+04\n",
      "[ArIII] temperature - Thick Disc Medyan (0 hariç): 1.34e+04\n",
      "[ArIII] temperature - Bulge Medyan (0 hariç): 1.58e+04\n",
      "[ArIII] temperature - Halo Medyan (0 hariç): 1.41e+04\n",
      "[ArV] temperature - Tüm Veriler Medyanı (0 hariç): nan\n",
      "He I temperature (7281/6678) - Tüm Veriler Medyanı (0 hariç): 8.12e+04\n",
      "He I temperature (7281/6678) - Thin Disc Medyan (0 hariç): 1.03e+05\n",
      "He I temperature (7281/6678) - Thick Disc Medyan (0 hariç): 6.38e+04\n",
      "He I temperature (7281/6678) - Bulge Medyan (0 hariç): 1.77e+05\n",
      "He I temperature (7281/6678) - Halo Medyan (0 hariç): 3.30e+04\n",
      "C/H - Tüm Veriler Medyanı (0 hariç): nan\n",
      "N/H - Tüm Veriler Medyanı (0 hariç): 8.97e-05\n",
      "N/H - Thin Disc Medyan (0 hariç): 1.03e-04\n",
      "N/H - Thick Disc Medyan (0 hariç): 5.83e-05\n",
      "N/H - Bulge Medyan (0 hariç): 8.36e-05\n",
      "N/H - Halo Medyan (0 hariç): 4.10e-05\n",
      "O/H - Tüm Veriler Medyanı (0 hariç): 2.37e-04\n",
      "O/H - Thin Disc Medyan (0 hariç): 2.52e-04\n",
      "O/H - Thick Disc Medyan (0 hariç): 2.29e-04\n",
      "O/H - Bulge Medyan (0 hariç): 2.02e-04\n",
      "O/H - Halo Medyan (0 hariç): 2.09e-04\n",
      "Ne/H - Tüm Veriler Medyanı (0 hariç): 4.24e-05\n",
      "Ne/H - Thin Disc Medyan (0 hariç): 4.31e-05\n",
      "Ne/H - Thick Disc Medyan (0 hariç): 4.93e-05\n",
      "Ne/H - Bulge Medyan (0 hariç): 2.21e-05\n",
      "Ne/H - Halo Medyan (0 hariç): 4.34e-05\n",
      "Ar/H - Tüm Veriler Medyanı (0 hariç): 3.22e-06\n",
      "Ar/H - Thin Disc Medyan (0 hariç): 3.97e-06\n",
      "Ar/H - Thick Disc Medyan (0 hariç): 2.83e-06\n",
      "Ar/H - Bulge Medyan (0 hariç): 2.97e-06\n",
      "Ar/H - Halo Medyan (0 hariç): 1.61e-06\n"
     ]
    },
    {
     "name": "stderr",
     "output_type": "stream",
     "text": [
      "/var/folders/ry/6rcrw5vs4f33lx3wyt4f6m5w0000gn/T/ipykernel_93069/1798614509.py:89: RuntimeWarning: More than 20 figures have been opened. Figures created through the pyplot interface (`matplotlib.pyplot.figure`) are retained until explicitly closed and may consume too much memory. (To control this warning, see the rcParam `figure.max_open_warning`). Consider using `matplotlib.pyplot.close()`.\n",
      "  plt.figure()\n"
     ]
    },
    {
     "name": "stdout",
     "output_type": "stream",
     "text": [
      "S/H - Tüm Veriler Medyanı (0 hariç): 3.63e-06\n",
      "S/H - Thin Disc Medyan (0 hariç): 3.89e-06\n",
      "S/H - Thick Disc Medyan (0 hariç): 2.69e-06\n",
      "S/H - Bulge Medyan (0 hariç): 4.17e-06\n",
      "S/H - Halo Medyan (0 hariç): 1.14e-06\n",
      "Cl/H - Tüm Veriler Medyanı (0 hariç): 5.74e-07\n",
      "Cl/H - Thin Disc Medyan (0 hariç): 6.96e-07\n",
      "Cl/H - Thick Disc Medyan (0 hariç): 4.56e-07\n",
      "Cl/H - Bulge Medyan (0 hariç): 5.59e-07\n",
      "Cl/H - Halo Medyan (0 hariç): 2.04e-07\n",
      "He/H - Tüm Veriler Medyanı (0 hariç): 2.02e-01\n",
      "He/H - Thin Disc Medyan (0 hariç): 2.18e-01\n",
      "He/H - Thick Disc Medyan (0 hariç): 1.73e-01\n",
      "He/H - Bulge Medyan (0 hariç): 2.18e-01\n",
      "He/H - Halo Medyan (0 hariç): 1.21e-01\n",
      "Diameter - Tüm Veriler Medyanı (0 hariç): 1.50e+01\n",
      "Diameter - Thin Disc Medyan (0 hariç): 1.56e+01\n",
      "Diameter - Thick Disc Medyan (0 hariç): 1.91e+01\n",
      "Diameter - Bulge Medyan (0 hariç): 1.00e+01\n",
      "Diameter - Halo Medyan (0 hariç): 1.58e+01\n",
      "Angular Width - Tüm Veriler Medyanı (0 hariç): 3.36e-01\n",
      "Angular Width - Thin Disc Medyan (0 hariç): 2.98e-01\n",
      "Angular Width - Thick Disc Medyan (0 hariç): 4.62e-01\n",
      "Angular Width - Bulge Medyan (0 hariç): 3.58e-01\n",
      "Angular Width - Halo Medyan (0 hariç): 4.01e-01\n",
      "Histogramlar başarıyla oluşturuldu ve medyanlar listeye yazıldı.\n",
      "Belirtilen sütunlar için PDF dosyaları oluşturuldu.\n"
     ]
    },
    {
     "data": {
      "text/plain": [
       "<Figure size 640x480 with 0 Axes>"
      ]
     },
     "metadata": {},
     "output_type": "display_data"
    },
    {
     "data": {
      "text/plain": [
       "<Figure size 640x480 with 0 Axes>"
      ]
     },
     "metadata": {},
     "output_type": "display_data"
    },
    {
     "data": {
      "text/plain": [
       "<Figure size 640x480 with 0 Axes>"
      ]
     },
     "metadata": {},
     "output_type": "display_data"
    },
    {
     "data": {
      "text/plain": [
       "<Figure size 640x480 with 0 Axes>"
      ]
     },
     "metadata": {},
     "output_type": "display_data"
    },
    {
     "data": {
      "text/plain": [
       "<Figure size 640x480 with 0 Axes>"
      ]
     },
     "metadata": {},
     "output_type": "display_data"
    },
    {
     "data": {
      "text/plain": [
       "<Figure size 640x480 with 0 Axes>"
      ]
     },
     "metadata": {},
     "output_type": "display_data"
    },
    {
     "data": {
      "text/plain": [
       "<Figure size 640x480 with 0 Axes>"
      ]
     },
     "metadata": {},
     "output_type": "display_data"
    },
    {
     "data": {
      "text/plain": [
       "<Figure size 640x480 with 0 Axes>"
      ]
     },
     "metadata": {},
     "output_type": "display_data"
    },
    {
     "data": {
      "text/plain": [
       "<Figure size 640x480 with 0 Axes>"
      ]
     },
     "metadata": {},
     "output_type": "display_data"
    },
    {
     "data": {
      "text/plain": [
       "<Figure size 640x480 with 0 Axes>"
      ]
     },
     "metadata": {},
     "output_type": "display_data"
    },
    {
     "data": {
      "text/plain": [
       "<Figure size 640x480 with 0 Axes>"
      ]
     },
     "metadata": {},
     "output_type": "display_data"
    },
    {
     "data": {
      "text/plain": [
       "<Figure size 640x480 with 0 Axes>"
      ]
     },
     "metadata": {},
     "output_type": "display_data"
    },
    {
     "data": {
      "text/plain": [
       "<Figure size 640x480 with 0 Axes>"
      ]
     },
     "metadata": {},
     "output_type": "display_data"
    },
    {
     "data": {
      "text/plain": [
       "<Figure size 640x480 with 0 Axes>"
      ]
     },
     "metadata": {},
     "output_type": "display_data"
    },
    {
     "data": {
      "text/plain": [
       "<Figure size 640x480 with 0 Axes>"
      ]
     },
     "metadata": {},
     "output_type": "display_data"
    },
    {
     "data": {
      "text/plain": [
       "<Figure size 640x480 with 0 Axes>"
      ]
     },
     "metadata": {},
     "output_type": "display_data"
    },
    {
     "data": {
      "text/plain": [
       "<Figure size 640x480 with 0 Axes>"
      ]
     },
     "metadata": {},
     "output_type": "display_data"
    },
    {
     "data": {
      "text/plain": [
       "<Figure size 640x480 with 0 Axes>"
      ]
     },
     "metadata": {},
     "output_type": "display_data"
    },
    {
     "data": {
      "text/plain": [
       "<Figure size 640x480 with 0 Axes>"
      ]
     },
     "metadata": {},
     "output_type": "display_data"
    },
    {
     "data": {
      "text/plain": [
       "<Figure size 640x480 with 0 Axes>"
      ]
     },
     "metadata": {},
     "output_type": "display_data"
    },
    {
     "data": {
      "text/plain": [
       "<Figure size 640x480 with 0 Axes>"
      ]
     },
     "metadata": {},
     "output_type": "display_data"
    },
    {
     "data": {
      "text/plain": [
       "<Figure size 640x480 with 0 Axes>"
      ]
     },
     "metadata": {},
     "output_type": "display_data"
    },
    {
     "data": {
      "text/plain": [
       "<Figure size 640x480 with 0 Axes>"
      ]
     },
     "metadata": {},
     "output_type": "display_data"
    },
    {
     "data": {
      "text/plain": [
       "<Figure size 640x480 with 0 Axes>"
      ]
     },
     "metadata": {},
     "output_type": "display_data"
    },
    {
     "data": {
      "text/plain": [
       "<Figure size 640x480 with 0 Axes>"
      ]
     },
     "metadata": {},
     "output_type": "display_data"
    },
    {
     "data": {
      "text/plain": [
       "<Figure size 1200x1200 with 0 Axes>"
      ]
     },
     "metadata": {},
     "output_type": "display_data"
    },
    {
     "data": {
      "text/plain": [
       "<Figure size 1200x1200 with 0 Axes>"
      ]
     },
     "metadata": {},
     "output_type": "display_data"
    },
    {
     "data": {
      "text/plain": [
       "<Figure size 1200x600 with 0 Axes>"
      ]
     },
     "metadata": {},
     "output_type": "display_data"
    },
    {
     "data": {
      "text/plain": [
       "<Figure size 1200x1200 with 0 Axes>"
      ]
     },
     "metadata": {},
     "output_type": "display_data"
    }
   ],
   "source": [
    "#### ORTALAMA YERİNE MEDİAN DEĞERİ SİYAH KESİKLİ ÇİZGİ İLE GÖSTERİLİYOR ####\n",
    "\n",
    "#### Te, Ne ve element bollukları log alınmış değerleri ile histogram oluşturarak tek bir pdf dosyasında birleştiriyor. ####\n",
    "\n",
    "import pandas as pd\n",
    "import numpy as np\n",
    "import matplotlib.pyplot as plt\n",
    "import os\n",
    "from matplotlib.backends.backend_pdf import PdfPages\n",
    "\n",
    "# Excel dosyasını oku\n",
    "excel_yolu = \"/Users/nurullah/Desktop/galaxy_abudance/Uzak_Pc/sigma_5/bilgiislem/8.34/Disc_Region.xlsx\"\n",
    "neat_result_df = pd.read_excel(excel_yolu, sheet_name='neat_result')\n",
    "renklendirilmis_df = pd.read_excel(excel_yolu, sheet_name='Sayfa2')\n",
    "\n",
    "# Histogramlar için klasör oluştur\n",
    "klasor_yolu = \"/Users/nurullah/Desktop/galaxy_abudance/Uzak_Pc/sigma_5/bilgiislem/8.34/histogramlar/ThickDisc/\"\n",
    "if not os.path.exists(klasor_yolu):\n",
    "    os.makedirs(klasor_yolu)\n",
    "\n",
    "# Ortalamalar için dosya oluştur\n",
    "ortalama_dosyasi_yolu = os.path.join(klasor_yolu, \"ortalama_degerler.txt\")\n",
    "\n",
    "# Renklendirme fonksiyonu\n",
    "def get_color(component):\n",
    "    if component == 'Bulge':\n",
    "        return 'blue'\n",
    "    elif component == 'Thin Disc':\n",
    "        return 'red'\n",
    "    elif component == 'Thick Disc':\n",
    "        return 'green'\n",
    "    elif component == 'Halo':\n",
    "        return 'orange'\n",
    "    else:\n",
    "        return None\n",
    "\n",
    "# Renklendirme bilgilerini ekle\n",
    "renklendirilmis_df['color'] = renklendirilmis_df['Gbileşen'].apply(get_color)\n",
    "renk_dict = renklendirilmis_df.set_index('idPNMain')['color'].to_dict()\n",
    "\n",
    "# Sütun başlıkları\n",
    "sutun_basliklari = ['c(Hb) (Ha/Hb)', 'c(Hb) (Hg/Hb)', 'c(Hb) (Hd/Hb)', '[OII] density', '[S II] Density', '[ArIV] density', \n",
    "                    '[OII] temperature', '[S II] temperature', '[N II] temperature', \n",
    "                    '[OI] temperature', '[O III] Temperature', '[NeIII] temperature', \n",
    "                    '[ArIII] temperature', '[ArV] temperature', 'He I temperature (7281/6678)', \n",
    "                    'C/H', 'N/H', 'O/H', 'Ne/H', 'Ar/H', 'S/H', 'Cl/H', 'He/H', 'Diameter', 'Angular Width']\n",
    "\n",
    "# Histogram parametreleri\n",
    "histogram_parametreleri = {\n",
    "    'c(Hb) (Ha/Hb)': {'bins': 50, 'range': (0, 6)},\n",
    "    'c(Hb) (Hg/Hb)': {'bins': 50, 'range': (0, 6)},\n",
    "    'c(Hb) (Hd/Hb)': {'bins': 50, 'range': (0, 6)},\n",
    "    '[OII] density': {'bins': 50, 'range': (0, 20000)},\n",
    "    '[S II] Density': {'bins': 50, 'range': (0, 15000)},\n",
    "    '[ArIV] density': {'bins': 50, 'range': (0, 70000)},\n",
    "    '[OII] temperature': {'bins': 50, 'range': (5000, 35000)},\n",
    "    '[S II] temperature': {'bins': 50, 'range': (0, 35000)},\n",
    "    '[N II] temperature': {'bins': 50, 'range': (5000, 35000)},\n",
    "    '[OI] temperature': {'bins': 50, 'range': (0, 35000)},\n",
    "    '[O III] Temperature': {'bins': 50, 'range': (5000, 35000)},\n",
    "    '[NeIII] temperature': {'bins': 50, 'range': (0, 35000)},\n",
    "    '[ArIII] temperature': {'bins': 50, 'range': (5000, 35000)},\n",
    "    '[ArV] temperature': {'bins': 50, 'range': (0, 35000)},\n",
    "    'He I temperature (7281/6678)': {'bins': 50, 'range': (0, 4e5)},\n",
    "    'C/H': {'bins': 50, 'range': (0, 1e-3)},\n",
    "    'N/H': {'bins': 50, 'range': (0, 1e-3)},\n",
    "    'O/H': {'bins': 50, 'range': (0, 3e-3)},\n",
    "    'Ne/H': {'bins': 50, 'range': (0, 3e-3)},\n",
    "    'Ar/H': {'bins': 50, 'range': (0, 175e-7)},\n",
    "    'S/H': {'bins': 50, 'range': (0, 3e-5)},\n",
    "    'Cl/H': {'bins': 50, 'range': (0, 0.6e-5)},\n",
    "    'He/H': {'bins': 50, 'range': (0, 0.5)},\n",
    "    'Diameter': {'bins': 50, 'range': (0, 200)},\n",
    "    'Angular Width': {'bins': 50, 'range': (0, 4)}\n",
    "}\n",
    "\n",
    "# Renklere karşılık gelen etiketler\n",
    "renk_etiketleri = {\n",
    "    'red': 'Thin Disc',\n",
    "    'green': 'Thick Disc',\n",
    "    'blue': 'Bulge',\n",
    "    'orange': 'Halo'\n",
    "}\n",
    "\n",
    "# Ortalamaları yazmak için dosyayı aç\n",
    "with open(ortalama_dosyasi_yolu, 'w') as f:\n",
    "    # Her sütun için histogram oluştur\n",
    "    for baslik in sutun_basliklari:\n",
    "        plt.figure()\n",
    "        bins = histogram_parametreleri[baslik]['bins']\n",
    "        range_ = histogram_parametreleri[baslik]['range']\n",
    "        ortalamalar = {}\n",
    "        \n",
    "        # 0 değerleri hariç tutarak tüm verilerin medyanını hesapla ve siyah kesikli çizgi olarak göster\n",
    "        tum_veriler_median = neat_result_df[baslik][neat_result_df[baslik] != 0].median()\n",
    "        plt.axvline(tum_veriler_median, color='black', linestyle='dashed', linewidth=1)\n",
    "        print(f\"{baslik} - Tüm Veriler Medyanı (0 hariç): {tum_veriler_median:.2e}\")\n",
    "        f.write(f\"{baslik} - Tüm Veriler Medyanı (0 hariç): {tum_veriler_median:.2e}\\n\")\n",
    "        \n",
    "        for color, etiket in renk_etiketleri.items():\n",
    "            filtreli_veri = neat_result_df[neat_result_df['idPNMain'].map(renk_dict) == color][baslik]\n",
    "            filtreli_veri = filtreli_veri[(filtreli_veri != 0) & (filtreli_veri != 35000)]\n",
    "            \n",
    "            if not filtreli_veri.empty:\n",
    "                plt.hist(filtreli_veri, bins=bins, range=range_, edgecolor='black', color=color, label=etiket)\n",
    "                medyan = filtreli_veri.median()\n",
    "                ortalamalar[etiket] = medyan\n",
    "        \n",
    "        # Medyan değerleri kesikli çizgilerle göster\n",
    "        for etiket, medyan in ortalamalar.items():\n",
    "            color = [k for k, v in renk_etiketleri.items() if v == etiket][0]\n",
    "            plt.axvline(medyan, color=color, linestyle='dashed', linewidth=1)\n",
    "            print(f\"{baslik} - {etiket} Medyan (0 hariç): {medyan:.2e}\")\n",
    "            f.write(f\"{baslik} - {etiket} Medyan (0 hariç): {medyan:.2e}\\n\")\n",
    "        \n",
    "        # Plot ayarları\n",
    "        if baslik in ['c(Hb) (Ha/Hb)', 'c(Hb) (Hg/Hb)', 'c(Hb) (Hd/Hb)']:\n",
    "            plt.xlabel(\"cH(β)\")\n",
    "        else:\n",
    "            plt.xlabel(baslik)\n",
    "        \n",
    "        plt.ylabel(\"Number\")\n",
    "        #plt.legend(fontsize=12)\n",
    "        \n",
    "        # Histogramı kaydet\n",
    "        kaydet_yolu = os.path.join(klasor_yolu, f\"{baslik.replace('/', '_')}.png\")\n",
    "        plt.savefig(kaydet_yolu, dpi=300)\n",
    "        \n",
    "        # Plot'u temizle\n",
    "        plt.clf()\n",
    "\n",
    "print(\"Histogramlar başarıyla oluşturuldu ve medyanlar listeye yazıldı.\")\n",
    "\n",
    "# PDF dosyası yolu\n",
    "pdf_dosyasi_yolu = \"/Users/nurullah/Desktop/galaxy_abudance/Uzak_Pc/sigma_5/bilgiislem/8.34/histogramlar/ThickDisc/selected_histograms.pdf\"\n",
    "\n",
    "# Histogram başlıkları\n",
    "basliklar = ['[S II] Density', '[N II] temperature', '[O III] Temperature']\n",
    "\n",
    "# PDF ile grafik oluşturma\n",
    "with PdfPages(pdf_dosyasi_yolu) as pdf:\n",
    "    plt.figure(figsize=(12, 12))  # Şekil boyutunu ayarlayın\n",
    "\n",
    "    for i, baslik in enumerate(basliklar):\n",
    "        plt.subplot(len(basliklar), 1, i + 1)  # 1 satır, len(basliklar) sütunlu alt grafikleri oluşturur\n",
    "        bins = histogram_parametreleri[baslik]['bins']\n",
    "        range_ = histogram_parametreleri[baslik]['range']\n",
    "        ortalamalar = {}\n",
    "        \n",
    "        # 0 değerleri hariç tutarak tüm verilerin medyanını hesapla ve siyah kesikli çizgi olarak göster\n",
    "        tum_veriler_median = neat_result_df[baslik][neat_result_df[baslik] != 0].median()\n",
    "        plt.axvline(tum_veriler_median, color='black', linestyle='dashed', linewidth=1)\n",
    "        \n",
    "        for color, etiket in renk_etiketleri.items():\n",
    "            filtreli_veri = neat_result_df[neat_result_df['idPNMain'].map(renk_dict) == color][baslik]\n",
    "            filtreli_veri = filtreli_veri[(filtreli_veri != 0) & (filtreli_veri != 35000)]\n",
    "            \n",
    "            if not filtreli_veri.empty:\n",
    "                plt.hist(filtreli_veri, bins=bins, range=range_, edgecolor='black', color=color, label=etiket)\n",
    "                medyan = filtreli_veri.median()\n",
    "                ortalamalar[etiket] = medyan\n",
    "        \n",
    "        for etiket, medyan in ortalamalar.items():\n",
    "            color = [k for k, v in renk_etiketleri.items() if v == etiket][0]\n",
    "            plt.axvline(medyan, color=color, linestyle='dashed', linewidth=1)\n",
    "        \n",
    "        plt.xlabel(baslik)\n",
    "        plt.ylabel(\"Number\")\n",
    "        #plt.legend(fontsize=12)\n",
    "        plt.tight_layout()  # Alt grafiklerin sıkışmaması için düzenler\n",
    "\n",
    "    pdf.savefig()  # Tek bir sayfaya tüm alt grafiklerle birlikte kaydeder\n",
    "    plt.clf()\n",
    "    \n",
    "# PDF dosyası yolu\n",
    "pdf_dosyasi_yolu = \"/Users/nurullah/Desktop/galaxy_abudance/Uzak_Pc/sigma_5/bilgiislem/8.34/histogramlar/ThickDisc/selected_histograms.pdf\"\n",
    "\n",
    "# Histogram başlıkları\n",
    "basliklar = ['[S II] Density', '[N II] temperature', '[O III] Temperature']\n",
    "\n",
    "# PDF ile grafik oluşturma\n",
    "with PdfPages(pdf_dosyasi_yolu) as pdf:\n",
    "    plt.figure(figsize=(12, 12))  # Şekil boyutunu ayarlayın\n",
    "\n",
    "    for i, baslik in enumerate(basliklar):\n",
    "        plt.subplot(len(basliklar), 1, i + 1)  # 1 satır, len(basliklar) sütunlu alt grafikleri oluşturur\n",
    "        bins = histogram_parametreleri[baslik]['bins']\n",
    "        range_ = histogram_parametreleri[baslik]['range']\n",
    "        ortalamalar = {}\n",
    "        \n",
    "        # 0 değerleri hariç tutarak tüm verilerin medyanını hesapla ve siyah kesikli çizgi olarak göster\n",
    "        tum_veriler_median = neat_result_df[baslik][neat_result_df[baslik] != 0].median()\n",
    "        plt.axvline(tum_veriler_median, color='black', linestyle='dashed', linewidth=1)\n",
    "        \n",
    "        for color, etiket in renk_etiketleri.items():\n",
    "            filtreli_veri = neat_result_df[neat_result_df['idPNMain'].map(renk_dict) == color][baslik]\n",
    "            filtreli_veri = filtreli_veri[(filtreli_veri != 0) & (filtreli_veri != 35000)]\n",
    "            \n",
    "            if not filtreli_veri.empty:\n",
    "                plt.hist(filtreli_veri, bins=bins, range=range_, edgecolor='black', color=color, label=etiket)\n",
    "                medyan = filtreli_veri.median()\n",
    "                ortalamalar[etiket] = medyan\n",
    "        \n",
    "        for etiket, medyan in ortalamalar.items():\n",
    "            color = [k for k, v in renk_etiketleri.items() if v == etiket][0]\n",
    "            plt.axvline(medyan, color=color, linestyle='dashed', linewidth=1)\n",
    "        \n",
    "        plt.xlabel(baslik)\n",
    "        plt.ylabel(\"Number\")\n",
    "        #plt.legend(fontsize=12)\n",
    "        plt.tight_layout()  # Alt grafiklerin sıkışmaması için düzenler\n",
    "\n",
    "    pdf.savefig()  # Tek bir sayfaya tüm alt grafiklerle birlikte kaydeder\n",
    "    plt.clf()\n",
    "\n",
    "    \n",
    "# PDF dosyası yolu\n",
    "pdf_dosyasi_yolu = \"/Users/nurullah/Desktop/galaxy_abudance/Uzak_Pc/sigma_5/bilgiislem/8.34/histogramlar/ThickDisc/size_histograms.pdf\"\n",
    "\n",
    "# Histogram başlıkları\n",
    "basliklar = ['Diameter', 'Angular Width']\n",
    "\n",
    "# PDF ile grafik oluşturma\n",
    "with PdfPages(pdf_dosyasi_yolu) as pdf:\n",
    "    plt.figure(figsize=(12, 6))  # Şekil boyutunu ayarlayın (genişlik, yükseklik)\n",
    "\n",
    "    # Histogramlar için alt grafikler\n",
    "    for i, baslik in enumerate(basliklar):\n",
    "        plt.subplot(1, 2, i + 1)  # 2 satır, 2 sütunlu alt grafikleri oluşturur\n",
    "        bins = histogram_parametreleri[baslik]['bins']\n",
    "        range_ = histogram_parametreleri[baslik]['range']\n",
    "        ortalamalar = {}\n",
    "        \n",
    "        # 0 değerleri hariç tutarak tüm verilerin medyanını hesapla ve siyah kesikli çizgi olarak göster\n",
    "        tum_veriler_median = neat_result_df[baslik][neat_result_df[baslik] != 0].median()\n",
    "        plt.axvline(tum_veriler_median, color='black', linestyle='dashed', linewidth=1)\n",
    "        \n",
    "        for color, etiket in renk_etiketleri.items():\n",
    "            filtreli_veri = neat_result_df[neat_result_df['idPNMain'].map(renk_dict) == color][baslik]\n",
    "            filtreli_veri = filtreli_veri[(filtreli_veri != 0) & (filtreli_veri != 35000)]\n",
    "            \n",
    "            if not filtreli_veri.empty:\n",
    "                plt.hist(filtreli_veri, bins=bins, range=range_, edgecolor='black', color=color, label=etiket)\n",
    "                medyan = filtreli_veri.median()\n",
    "                ortalamalar[etiket] = medyan\n",
    "        \n",
    "        for etiket, medyan in ortalamalar.items():\n",
    "            color = [k for k, v in renk_etiketleri.items() if v == etiket][0]\n",
    "            plt.axvline(medyan, color=color, linestyle='dashed', linewidth=1)\n",
    "        \n",
    "        plt.xlabel(baslik)\n",
    "        plt.ylabel(\"Number\")\n",
    "        #plt.legend(fontsize=12)\n",
    "        \n",
    "    pdf.savefig()  # Tek bir sayfaya tüm alt grafiklerle birlikte kaydeder\n",
    "    plt.clf()\n",
    "\n",
    "    \n",
    "# Kimyasal bolluklar için ayrı bir PDF dosyası oluşturma\n",
    "# PDF dosyası yolu\n",
    "bolluk_pdf_dosyasi_yolu = \"/Users/nurullah/Desktop/galaxy_abudance/Uzak_Pc/sigma_5/bilgiislem/8.34/histogramlar/ThickDisc/abundances_histograms.pdf\"\n",
    "\n",
    "# Histogram başlıkları\n",
    "basliklar = ['He/H', 'N/H', 'O/H', 'Ne/H', 'S/H', 'Cl/H', 'Ar/H']\n",
    "\n",
    "# PDF ile grafik oluşturma\n",
    "with PdfPages(bolluk_pdf_dosyasi_yolu) as pdf:\n",
    "    plt.figure(figsize=(12, 12))  # Şekil boyutunu ayarlayın\n",
    "\n",
    "    for i, baslik in enumerate(basliklar):\n",
    "        plt.subplot(4, 2, i + 1)  # 4 satır, 2 sütunlu alt grafikleri oluşturur\n",
    "        bins = histogram_parametreleri[baslik]['bins']\n",
    "        # range_ parametresini kaldırarak otomatik aralıkları kullanacağız\n",
    "        ortalamalar = {}\n",
    "\n",
    "        # Verilerin logaritmasını al (0 değerlerini hariç tut)\n",
    "        log_veriler = np.log10(neat_result_df[baslik][neat_result_df[baslik] > 0])\n",
    "        tum_veriler_median = log_veriler.median()\n",
    "        plt.axvline(tum_veriler_median, color='black', linestyle='dashed', linewidth=1)\n",
    "\n",
    "        for color, etiket in renk_etiketleri.items():\n",
    "            filtreli_veri = neat_result_df[neat_result_df['idPNMain'].map(renk_dict) == color][baslik]\n",
    "            filtreli_veri = filtreli_veri[(filtreli_veri != 0) & (filtreli_veri != 35000)]\n",
    "            \n",
    "            if not filtreli_veri.empty:\n",
    "                log_filtreli_veri = np.log10(filtreli_veri)\n",
    "                plt.hist(log_filtreli_veri, bins=bins, edgecolor='black', color=color, label=etiket)\n",
    "                medyan = log_filtreli_veri.median()\n",
    "                ortalamalar[etiket] = medyan\n",
    "        \n",
    "        for etiket, medyan in ortalamalar.items():\n",
    "            color = [k for k, v in renk_etiketleri.items() if v == etiket][0]\n",
    "            plt.axvline(medyan, color=color, linestyle='dashed', linewidth=1)\n",
    "        \n",
    "        plt.xlabel(f'log({baslik})')\n",
    "        plt.ylabel(\"Number\")\n",
    "        #plt.legend(fontsize=12, loc='upper right')\n",
    "        plt.tight_layout()  # Alt grafiklerin sıkışmaması için düzenler\n",
    "\n",
    "    pdf.savefig()  # Tek bir sayfaya tüm alt grafiklerle birlikte kaydeder\n",
    "    plt.clf()  # Şekli temizler\n",
    "    \n",
    "print(\"Belirtilen sütunlar için PDF dosyaları oluşturuldu.\")"
   ]
  },
  {
   "cell_type": "code",
   "execution_count": 14,
   "id": "df713149",
   "metadata": {},
   "outputs": [
    {
     "name": "stdout",
     "output_type": "stream",
     "text": [
      "PDF dosyası başarıyla kaydedildi: /Users/nurullah/Desktop/galaxy_abudance/Uzak_Pc/sigma_5/bilgiislem/8.34/histogramlar/HASH_Size_Morfo_median.pdf\n"
     ]
    }
   ],
   "source": [
    "import pandas as pd\n",
    "import matplotlib.pyplot as plt\n",
    "import numpy as np\n",
    "from matplotlib.backends.backend_pdf import PdfPages\n",
    "import os\n",
    "\n",
    "# Excel dosyasını oku\n",
    "excel_yolu = \"/Users/nurullah/Desktop/galaxy_abudance/Uzak_Pc/sigma_5/bilgiislem/8.34/Disc_Region.xlsx\"\n",
    "df = pd.read_excel(excel_yolu, sheet_name='düşeyara')\n",
    "\n",
    "# ERBIAS ve SPARM sütunlarını seç\n",
    "erbias_sutunu = df['ERBIAS']\n",
    "sparm_sutunu = df['SPARM']\n",
    "gbilesen_sutunu = df['Gbileşen']\n",
    "\n",
    "# '0' olan değerleri 'NaN' ile değiştir\n",
    "erbias_sutunu.replace(0, np.nan, inplace=True)\n",
    "sparm_sutunu.replace(0, np.nan, inplace=True)\n",
    "\n",
    "# Kategori renklerini tanımla\n",
    "renk_etiketleri = {\n",
    "    'Bulge': 'blue',          # Bulge ise mavi\n",
    "    'Thin Disc': 'red',       # Thin Disc ise kırmızı\n",
    "    'Thick Disc': 'green',    # Thick Disk ise yeşil\n",
    "    'Halo': 'orange',         # Halo ise turuncu\n",
    "}\n",
    "\n",
    "# Histogramın genel özellikleri\n",
    "bar_width = 0.15  # Her bir bileşen için sütun genişliği\n",
    "\n",
    "# ERBIAS histogramını oluşturacak fonksiyon\n",
    "def plot_erbias_histogram(ax):\n",
    "    categories = ['E', 'R', 'B', 'I', 'A', 'S', np.nan]\n",
    "    category_names = ['E', 'R', 'B', 'I', 'A', 'S', 'NaN']\n",
    "    x_positions = np.arange(len(categories))  # Her kategori için x eksenindeki pozisyonlar\n",
    "    offset = np.zeros_like(x_positions, dtype=float)  # Her kategori için başlangıçta kaydırma 0\n",
    "\n",
    "    for component, color in renk_etiketleri.items():\n",
    "        counts = []\n",
    "\n",
    "        for category in categories:\n",
    "            filtered_gbilesen_sutunu = gbilesen_sutunu[erbias_sutunu == category]\n",
    "            component_count = filtered_gbilesen_sutunu[filtered_gbilesen_sutunu == component].count()\n",
    "            counts.append(component_count)\n",
    "\n",
    "        # Sütunları çiz\n",
    "        ax.bar(x_positions + offset, counts, bar_width, color=color, edgecolor='black', label=component)\n",
    "        offset += bar_width  # Sonraki bileşen için kaydırmayı artır\n",
    "\n",
    "    # X eksenini özelleştir\n",
    "    ax.set_xticks(x_positions + bar_width * 1.5)\n",
    "    ax.set_xticklabels(category_names)\n",
    "    ax.set_xlabel('ERBIAS Categories')\n",
    "    ax.set_ylabel('Number')\n",
    "    #ax.legend(loc='upper right')\n",
    "\n",
    "# SPARM histogramını oluşturacak fonksiyon\n",
    "def plot_sparm_histogram(ax):\n",
    "    categoriess = ['s', 'p', 'a', 'r', 'm', np.nan]\n",
    "    category_namess = ['s', 'p', 'a', 'r', 'm', 'NaN']\n",
    "    x_positions = np.arange(len(categoriess))  # Her kategori için x eksenindeki pozisyonlar\n",
    "    offset = np.zeros_like(x_positions, dtype=float)  # Her kategori için başlangıçta kaydırma 0\n",
    "\n",
    "    for component, color in renk_etiketleri.items():\n",
    "        counts = []\n",
    "\n",
    "        for category in categoriess:\n",
    "            filtered_gbilesen_sutunu = gbilesen_sutunu[sparm_sutunu == category]\n",
    "            component_count = filtered_gbilesen_sutunu[filtered_gbilesen_sutunu == component].count()\n",
    "            counts.append(component_count)\n",
    "\n",
    "        # Sütunları çiz\n",
    "        ax.bar(x_positions + offset, counts, bar_width, color=color, edgecolor='black', label=component)\n",
    "        offset += bar_width  # Sonraki bileşen için kaydırmayı artır\n",
    "\n",
    "    # X eksenini özelleştir\n",
    "    ax.set_xticks(x_positions + bar_width * 1.5)\n",
    "    ax.set_xticklabels(category_namess)\n",
    "    ax.set_xlabel('SPARM Categories')\n",
    "    ax.set_ylabel('Number')\n",
    "    #ax.legend(loc='upper right')\n",
    "\n",
    "# Diğer histogramları oluşturacak fonksiyonlar\n",
    "# Bileşenleri istenen sırada tanımla\n",
    "renk_etiketleri = { \n",
    "    'Thin Disc': 'red',       # En son Thin Disc\n",
    "    'Thick Disc': 'green',    # Daha sonra Thick Disk\n",
    "    'Bulge': 'blue',          # Sonra Bulge\n",
    "    'Halo': 'orange',         # Önce Halo\n",
    "}\n",
    "\n",
    "# Histogramları oluşturacak fonksiyonları güncelle\n",
    "def plot_histogram(ax, veri_sutunu, gbilesen_sutunu, bins, title, xlabel, ylabel):\n",
    "    veri_sutunu = pd.to_numeric(veri_sutunu, errors='coerce')\n",
    "    filtered_df = df[veri_sutunu <= bins[-1]]\n",
    "    filtered_veri_sutunu = filtered_df[veri_sutunu.name]\n",
    "    filtered_gbilesen_sutunu = filtered_df[gbilesen_sutunu.name]\n",
    "\n",
    "    hist_data = []\n",
    "    ortanca_degerler = {}\n",
    "\n",
    "    # Bileşenleri belirli bir sırayla döngüye al\n",
    "    for component, color in renk_etiketleri.items():\n",
    "        component_values = filtered_veri_sutunu[filtered_gbilesen_sutunu == component]\n",
    "        counts, bins = np.histogram(component_values, bins=bins)\n",
    "        hist_data.append((component, counts, bins, color))\n",
    "        median_value = component_values.median()\n",
    "        ortanca_degerler[component] = median_value\n",
    "\n",
    "    # Histogramları çizim sırasına göre çiz\n",
    "    for component, counts, bins, color in hist_data:\n",
    "        ax.hist(bins[:-1], bins=bins, weights=counts, color=color, edgecolor='black', label=component)\n",
    "        median_value = ortanca_degerler[component]\n",
    "        ax.axvline(x=median_value, color=color, linestyle='--', label=f'{component} Median')\n",
    "\n",
    "    # Genel ortancayı gösteren siyah bir çizgi ekle\n",
    "    all_median_value = filtered_veri_sutunu.median()\n",
    "    ax.axvline(x=all_median_value, color='black', linestyle='--', label='Overall Median')\n",
    "\n",
    "    ax.set_xlabel(xlabel)\n",
    "    ax.set_ylabel(ylabel)\n",
    "    ax.legend()\n",
    "\n",
    "# PDF dosyasının yolunu belirle\n",
    "pdf_dosyasi_yolu = \"/Users/nurullah/Desktop/galaxy_abudance/Uzak_Pc/sigma_5/bilgiislem/8.34/histogramlar/HASH_Size_Morfo_median.pdf\"\n",
    "\n",
    "# PDF dosyası oluştur\n",
    "with PdfPages(pdf_dosyasi_yolu) as pdf:\n",
    "    fig, axs = plt.subplots(2, 2, figsize=(14, 12))  # 2x2 grid\n",
    "    axs = axs.flatten()\n",
    "\n",
    "    # Histogramları oluştur\n",
    "    plot_histogram(axs[0], df['MajDiam'], df['Gbileşen'], np.arange(0, 201, 2), 'Diameter Histogram', 'Diameter (′′)', 'Number')\n",
    "    plot_histogram(axs[1], df['Açısal_genişlik'], df['Gbileşen'], np.arange(0, 4, 0.1), 'Angular Width Histogram', 'Angular Width (pc)', 'Number')\n",
    "    plot_erbias_histogram(axs[2])\n",
    "    plot_sparm_histogram(axs[3])\n",
    "\n",
    "    plt.tight_layout()\n",
    "    pdf.savefig(fig)\n",
    "    plt.close(fig)\n",
    "\n",
    "# Kontrol etmek için dosya yolu yazdır\n",
    "if os.path.exists(pdf_dosyasi_yolu):\n",
    "    print(f\"PDF dosyası başarıyla kaydedildi: {pdf_dosyasi_yolu}\")\n",
    "else:\n",
    "    print(f\"PDF dosyası kaydedilemedi: {pdf_dosyasi_yolu}\")\n"
   ]
  },
  {
   "cell_type": "code",
   "execution_count": null,
   "id": "609fda84",
   "metadata": {},
   "outputs": [],
   "source": []
  }
 ],
 "metadata": {
  "kernelspec": {
   "display_name": "Python 3 (ipykernel)",
   "language": "python",
   "name": "python3"
  },
  "language_info": {
   "codemirror_mode": {
    "name": "ipython",
    "version": 3
   },
   "file_extension": ".py",
   "mimetype": "text/x-python",
   "name": "python",
   "nbconvert_exporter": "python",
   "pygments_lexer": "ipython3",
   "version": "3.11.5"
  }
 },
 "nbformat": 4,
 "nbformat_minor": 5
}
