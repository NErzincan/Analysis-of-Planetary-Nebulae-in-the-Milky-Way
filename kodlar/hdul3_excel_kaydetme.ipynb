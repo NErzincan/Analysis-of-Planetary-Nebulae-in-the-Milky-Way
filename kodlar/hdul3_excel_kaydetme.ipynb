{
 "cells": [
  {
   "cell_type": "code",
   "execution_count": null,
   "id": "f8688fae",
   "metadata": {
    "scrolled": true
   },
   "outputs": [],
   "source": [
    "import numpy as np\n",
    "from astropy.io import fits\n",
    "\n",
    "# Specify the path to your FITS file\n",
    "fits_file_path = '/Users/nurullah/Desktop/galaxy_abudance/Uzak_Pc/sigma5/DBS_Feb2007_MEN1004-5946_MS200207_id32934.fits_lines.fits'\n",
    "# Open the FITS file\n",
    "with fits.open(fits_file_path) as hdul:\n",
    "    # Access the data in the FITS file\n",
    "    primary_hdu = hdul[1]\n",
    "    data = primary_hdu.data\n",
    "    \n",
    "with fits.open(fits_file_path) as hdul:\n",
    "    hdul.info()\n",
    "\n",
    "    # Print the transposed data\n",
    "    print(\"\")\n",
    "    print(data)"
   ]
  },
  {
   "cell_type": "code",
   "execution_count": null,
   "id": "6989e74c",
   "metadata": {},
   "outputs": [],
   "source": [
    "###########.  neat_hdul3_çıktısını her bir fits dosyası için sütun oluşturarak excel dosyasına kaydediyor. ########\n",
    "\n",
    "\n",
    "import os\n",
    "import pandas as pd\n",
    "from astropy.io import fits\n",
    "\n",
    "# Klasördeki tüm FITS dosyalarını al\n",
    "fits_folder_path = '/Users/nurullah/Desktop/galaxy_abudance/Uzak_Pc/sigma_5/bilgiislem/neat_out/'\n",
    "fits_files = [file for file in os.listdir(fits_folder_path) if file.endswith('.fits')]\n",
    "\n",
    "# Boş bir DataFrame oluştur\n",
    "final_data = pd.DataFrame()\n",
    "\n",
    "# Her bir FITS dosyasını işle\n",
    "for fits_file in fits_files:\n",
    "    fits_path = os.path.join(fits_folder_path, fits_file)\n",
    "\n",
    "    with fits.open(fits_path) as hdul:\n",
    "        # İlgili HDU'ya eriş\n",
    "        results_hdu = hdul['RESULTS']\n",
    "        \n",
    "        # İlgilenilen sütunu seç (2. sütun, Python'da indeks 1'e denk gelir)\n",
    "        selected_data = results_hdu.data.field(1)\n",
    "        \n",
    "        # Pandas Series'e dönüştür\n",
    "        fits_data = pd.Series(selected_data, name=fits_file)\n",
    "        \n",
    "        # DataFrame'e ekle\n",
    "        final_data = pd.concat([final_data, fits_data], axis=1)\n",
    "\n",
    "# Verileri Excel dosyasına yaz\n",
    "excel_output_path = '/Users/nurullah/Desktop/galaxy_abudance/Uzak_Pc/file.xlsx'\n",
    "final_data.to_excel(excel_output_path, index=False)\n"
   ]
  },
  {
   "cell_type": "code",
   "execution_count": null,
   "id": "32320e49",
   "metadata": {},
   "outputs": [],
   "source": []
  },
  {
   "cell_type": "code",
   "execution_count": null,
   "id": "1f56e4f3",
   "metadata": {},
   "outputs": [],
   "source": []
  }
 ],
 "metadata": {
  "kernelspec": {
   "display_name": "Python 3 (ipykernel)",
   "language": "python",
   "name": "python3"
  },
  "language_info": {
   "codemirror_mode": {
    "name": "ipython",
    "version": 3
   },
   "file_extension": ".py",
   "mimetype": "text/x-python",
   "name": "python",
   "nbconvert_exporter": "python",
   "pygments_lexer": "ipython3",
   "version": "3.11.5"
  }
 },
 "nbformat": 4,
 "nbformat_minor": 5
}
