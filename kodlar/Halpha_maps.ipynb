{
 "cells": [
  {
   "cell_type": "code",
   "execution_count": null,
   "id": "c2e5a40e",
   "metadata": {},
   "outputs": [],
   "source": [
    "from astropy.io import fits\n",
    "from astropy.wcs import WCS\n",
    "import numpy as np\n",
    "from astropy.coordinates import SkyCoord\n",
    "import astropy.units as u\n",
    "\n",
    "# FITS dosyasını aç\n",
    "fits_file_path = 'Uzak_Pc/Halpha_map.fits'\n",
    "hdul = fits.open(fits_file_path)\n",
    "\n",
    "# WCS bilgilerini al\n",
    "wcs = WCS(hdul[0].header)\n",
    "\n",
    "# RA ve DEC değerlerini içeren TXT dosyasını oku\n",
    "txt_file_path = 'Uzak_Pc/Ha_olan_Ra_Dec.txt'  # Gerçek dosya adını ve yolunu belirtin\n",
    "\n",
    "# Genfromtxt fonksiyonunu kullanarak veriyi yükle\n",
    "ra_dec_data = np.genfromtxt(txt_file_path, dtype=str, delimiter='\\t')\n",
    "\n",
    "# Her bir RA ve DEC çifti için piksel konumlarını ve değerlerini bul\n",
    "pixel_values = []\n",
    "for ra_str, dec_str in ra_dec_data:\n",
    "    # H:M:S veya D:M:S formatındaki dizileri SkyCoord kullanarak dönüştür\n",
    "    coord = SkyCoord(ra=ra_str, dec=dec_str, unit=(u.hourangle, u.deg), frame='icrs')\n",
    "    # Dönüştürülmüş koordinatlardan RA ve DEC değerlerini al\n",
    "    ra = coord.ra.deg\n",
    "    dec = coord.dec.deg\n",
    "    # Piksel konumunu ve değerini hesapla\n",
    "    pixel_position = wcs.all_world2pix(ra, dec, 0)\n",
    "    pixel_value = hdul[0].data[int(pixel_position[1]), int(pixel_position[0])]\n",
    "    pixel_values.append((ra, dec, pixel_position[0], pixel_position[1], pixel_value))\n",
    "\n",
    "# Çıktıyı bir dosyaya kaydet\n",
    "output_file_path = 'Uzak_Pc/pixel_values_output.txt'\n",
    "\n",
    "with open(output_file_path, 'w') as f:\n",
    "    f.write(\"RA\\tDEC\\tPixel_X\\tPixel_Y\\tPixel_Value\\n\")\n",
    "    for i, (ra, dec, pixel_x, pixel_y, pixel_value) in enumerate(pixel_values):\n",
    "        line = f\"{ra}\\t{dec}\\t{pixel_x}\\t{pixel_y}\\t{pixel_value}\\n\"\n",
    "        f.write(line)\n",
    "\n",
    "# FITS dosyasını kapat\n",
    "hdul.close()"
   ]
  }
 ],
 "metadata": {
  "kernelspec": {
   "display_name": "Python 3 (ipykernel)",
   "language": "python",
   "name": "python3"
  },
  "language_info": {
   "codemirror_mode": {
    "name": "ipython",
    "version": 3
   },
   "file_extension": ".py",
   "mimetype": "text/x-python",
   "name": "python",
   "nbconvert_exporter": "python",
   "pygments_lexer": "ipython3",
   "version": "3.11.5"
  }
 },
 "nbformat": 4,
 "nbformat_minor": 5
}
